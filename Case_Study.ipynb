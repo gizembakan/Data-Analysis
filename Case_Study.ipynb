{
 "cells": [
  {
   "cell_type": "markdown",
   "metadata": {},
   "source": [
    "# Case Study"
   ]
  },
  {
   "cell_type": "markdown",
   "metadata": {},
   "source": [
    "### Introduction\n",
    "\n",
    "A mobile shopping platform is one of the best practices of creating a new business model based on big data and CRM technologies. This platform knows customers' preferences, shopping habits, even the number of children they have, the town their parents live, the activities they do in leisure times etc. This enables the platform to offer a personalized experience with customized campaigns designed for identified micro and macro segments based on customers' lifestyle and preferences through their transactions, without asking any questions. <br/>\n",
    "\n",
    "Data science is the heart of this platform to enhance a rich and customized reach to its each customer. Mass amount of data is collected from online and offline sources about each customer and data science team works on utilizing this data in an insightful manner to be used in identifying shopping behaviors, motivations and needs of each customer on the path of acquisition, retention and growth models. <br/>\n",
    "\n",
    "\n",
    "We prepared this notebook to test the knowledge of our fellow candidates. Good luck to all of you !!"
   ]
  },
  {
   "cell_type": "markdown",
   "metadata": {},
   "source": [
    "|   cid |   month |   spending |   transaction |\n",
    "|------:|--------:|-----------:|--------------:|\n",
    "|     1 |       3 |      52.57 |            27 |\n",
    "|     1 |       4 |      76.98 |            24 |\n",
    "|     1 |       7 |      66.42 |            26 |\n",
    "|     1 |       8 |      54.54 |            26 |\n",
    "|     1 |       9 |     128.21 |            27 |"
   ]
  },
  {
   "cell_type": "markdown",
   "metadata": {},
   "source": [
    "This is a sample transaction data of our customers:\n",
    "\n",
    "- **cid**: Customer Id column represents the unique id assigned to each customer\n",
    "- **month**: Month column represents the month of the transactions\n",
    "- **spending**: Spending column represents the total paid amount within the month\n",
    "- **transaction**: Transaction column represents the total number of transactions within the month\n",
    "\n",
    "**Feel free to add as many cell you need while solving the question and add comments explaining your answer.**"
   ]
  },
  {
   "cell_type": "markdown",
   "metadata": {},
   "source": [
    "## Question 1"
   ]
  },
  {
   "cell_type": "markdown",
   "metadata": {},
   "source": [
    "#### Data importing & wrangling\n",
    "1. Import the necessary packages and functions.\n",
    "2. Read the csv data.\n",
    "3. Write some code to explore the dataset. (row numbers, data types, etc.)\n",
    "4. Assess data visually as well as programmatically using pandas for quality and tidiness issues. "
   ]
  },
  {
   "cell_type": "code",
   "execution_count": 2,
   "metadata": {},
   "outputs": [],
   "source": [
    "# 1.Import all packages needed\n",
    "import pandas as pd\n",
    "import numpy as np"
   ]
  },
  {
   "cell_type": "code",
   "execution_count": 3,
   "metadata": {},
   "outputs": [],
   "source": [
    "# 2.Gathering the data\n",
    "df = pd.read_csv(\"data.csv\")"
   ]
  },
  {
   "cell_type": "code",
   "execution_count": 4,
   "metadata": {},
   "outputs": [
    {
     "data": {
      "text/html": [
       "<div>\n",
       "<style scoped>\n",
       "    .dataframe tbody tr th:only-of-type {\n",
       "        vertical-align: middle;\n",
       "    }\n",
       "\n",
       "    .dataframe tbody tr th {\n",
       "        vertical-align: top;\n",
       "    }\n",
       "\n",
       "    .dataframe thead th {\n",
       "        text-align: right;\n",
       "    }\n",
       "</style>\n",
       "<table border=\"1\" class=\"dataframe\">\n",
       "  <thead>\n",
       "    <tr style=\"text-align: right;\">\n",
       "      <th></th>\n",
       "      <th>cid</th>\n",
       "      <th>month</th>\n",
       "      <th>spending</th>\n",
       "      <th>transaction</th>\n",
       "    </tr>\n",
       "  </thead>\n",
       "  <tbody>\n",
       "    <tr>\n",
       "      <th>0</th>\n",
       "      <td>1</td>\n",
       "      <td>3</td>\n",
       "      <td>52.57</td>\n",
       "      <td>27</td>\n",
       "    </tr>\n",
       "    <tr>\n",
       "      <th>1</th>\n",
       "      <td>1</td>\n",
       "      <td>4</td>\n",
       "      <td>76.98</td>\n",
       "      <td>24</td>\n",
       "    </tr>\n",
       "    <tr>\n",
       "      <th>2</th>\n",
       "      <td>1</td>\n",
       "      <td>7</td>\n",
       "      <td>66.42</td>\n",
       "      <td>26</td>\n",
       "    </tr>\n",
       "    <tr>\n",
       "      <th>3</th>\n",
       "      <td>1</td>\n",
       "      <td>8</td>\n",
       "      <td>54.54</td>\n",
       "      <td>26</td>\n",
       "    </tr>\n",
       "    <tr>\n",
       "      <th>4</th>\n",
       "      <td>1</td>\n",
       "      <td>9</td>\n",
       "      <td>128.21</td>\n",
       "      <td>27</td>\n",
       "    </tr>\n",
       "    <tr>\n",
       "      <th>5</th>\n",
       "      <td>1</td>\n",
       "      <td>10</td>\n",
       "      <td>49.57</td>\n",
       "      <td>18</td>\n",
       "    </tr>\n",
       "    <tr>\n",
       "      <th>6</th>\n",
       "      <td>1</td>\n",
       "      <td>11</td>\n",
       "      <td>288.44</td>\n",
       "      <td>37</td>\n",
       "    </tr>\n",
       "    <tr>\n",
       "      <th>7</th>\n",
       "      <td>2</td>\n",
       "      <td>1</td>\n",
       "      <td>186.01</td>\n",
       "      <td>37</td>\n",
       "    </tr>\n",
       "    <tr>\n",
       "      <th>8</th>\n",
       "      <td>2</td>\n",
       "      <td>2</td>\n",
       "      <td>43.30</td>\n",
       "      <td>28</td>\n",
       "    </tr>\n",
       "    <tr>\n",
       "      <th>9</th>\n",
       "      <td>2</td>\n",
       "      <td>3</td>\n",
       "      <td>75.66</td>\n",
       "      <td>35</td>\n",
       "    </tr>\n",
       "  </tbody>\n",
       "</table>\n",
       "</div>"
      ],
      "text/plain": [
       "   cid  month  spending  transaction\n",
       "0    1      3     52.57           27\n",
       "1    1      4     76.98           24\n",
       "2    1      7     66.42           26\n",
       "3    1      8     54.54           26\n",
       "4    1      9    128.21           27\n",
       "5    1     10     49.57           18\n",
       "6    1     11    288.44           37\n",
       "7    2      1    186.01           37\n",
       "8    2      2     43.30           28\n",
       "9    2      3     75.66           35"
      ]
     },
     "execution_count": 4,
     "metadata": {},
     "output_type": "execute_result"
    }
   ],
   "source": [
    "# 3.Explore the data\n",
    "df.head(10) # First 10 rows of dataframe"
   ]
  },
  {
   "cell_type": "code",
   "execution_count": 5,
   "metadata": {},
   "outputs": [
    {
     "data": {
      "text/html": [
       "<div>\n",
       "<style scoped>\n",
       "    .dataframe tbody tr th:only-of-type {\n",
       "        vertical-align: middle;\n",
       "    }\n",
       "\n",
       "    .dataframe tbody tr th {\n",
       "        vertical-align: top;\n",
       "    }\n",
       "\n",
       "    .dataframe thead th {\n",
       "        text-align: right;\n",
       "    }\n",
       "</style>\n",
       "<table border=\"1\" class=\"dataframe\">\n",
       "  <thead>\n",
       "    <tr style=\"text-align: right;\">\n",
       "      <th></th>\n",
       "      <th>cid</th>\n",
       "      <th>month</th>\n",
       "      <th>spending</th>\n",
       "      <th>transaction</th>\n",
       "    </tr>\n",
       "  </thead>\n",
       "  <tbody>\n",
       "    <tr>\n",
       "      <th>count</th>\n",
       "      <td>74669.000000</td>\n",
       "      <td>74669.000000</td>\n",
       "      <td>74669.000000</td>\n",
       "      <td>74669.000000</td>\n",
       "    </tr>\n",
       "    <tr>\n",
       "      <th>mean</th>\n",
       "      <td>5007.502029</td>\n",
       "      <td>6.502404</td>\n",
       "      <td>106.310297</td>\n",
       "      <td>29.495641</td>\n",
       "    </tr>\n",
       "    <tr>\n",
       "      <th>std</th>\n",
       "      <td>2883.623913</td>\n",
       "      <td>3.454033</td>\n",
       "      <td>97.689002</td>\n",
       "      <td>9.793271</td>\n",
       "    </tr>\n",
       "    <tr>\n",
       "      <th>min</th>\n",
       "      <td>1.000000</td>\n",
       "      <td>1.000000</td>\n",
       "      <td>25.920000</td>\n",
       "      <td>2.000000</td>\n",
       "    </tr>\n",
       "    <tr>\n",
       "      <th>25%</th>\n",
       "      <td>2506.000000</td>\n",
       "      <td>4.000000</td>\n",
       "      <td>56.060000</td>\n",
       "      <td>23.000000</td>\n",
       "    </tr>\n",
       "    <tr>\n",
       "      <th>50%</th>\n",
       "      <td>5015.000000</td>\n",
       "      <td>6.000000</td>\n",
       "      <td>79.490000</td>\n",
       "      <td>28.000000</td>\n",
       "    </tr>\n",
       "    <tr>\n",
       "      <th>75%</th>\n",
       "      <td>7502.000000</td>\n",
       "      <td>10.000000</td>\n",
       "      <td>120.890000</td>\n",
       "      <td>34.000000</td>\n",
       "    </tr>\n",
       "    <tr>\n",
       "      <th>max</th>\n",
       "      <td>10000.000000</td>\n",
       "      <td>12.000000</td>\n",
       "      <td>3512.160000</td>\n",
       "      <td>148.000000</td>\n",
       "    </tr>\n",
       "  </tbody>\n",
       "</table>\n",
       "</div>"
      ],
      "text/plain": [
       "                cid         month      spending   transaction\n",
       "count  74669.000000  74669.000000  74669.000000  74669.000000\n",
       "mean    5007.502029      6.502404    106.310297     29.495641\n",
       "std     2883.623913      3.454033     97.689002      9.793271\n",
       "min        1.000000      1.000000     25.920000      2.000000\n",
       "25%     2506.000000      4.000000     56.060000     23.000000\n",
       "50%     5015.000000      6.000000     79.490000     28.000000\n",
       "75%     7502.000000     10.000000    120.890000     34.000000\n",
       "max    10000.000000     12.000000   3512.160000    148.000000"
      ]
     },
     "execution_count": 5,
     "metadata": {},
     "output_type": "execute_result"
    }
   ],
   "source": [
    "df.describe() # Statistical properties of dataframe"
   ]
  },
  {
   "cell_type": "code",
   "execution_count": 6,
   "metadata": {},
   "outputs": [
    {
     "data": {
      "text/plain": [
       "(74669, 4)"
      ]
     },
     "execution_count": 6,
     "metadata": {},
     "output_type": "execute_result"
    }
   ],
   "source": [
    "df.shape # (num of rows,num of columns)"
   ]
  },
  {
   "cell_type": "code",
   "execution_count": 7,
   "metadata": {},
   "outputs": [
    {
     "name": "stdout",
     "output_type": "stream",
     "text": [
      "cid\n",
      "month\n",
      "spending\n",
      "transaction\n"
     ]
    }
   ],
   "source": [
    "for column_names in df.columns:\n",
    "    print(column_names)\n",
    "#df.keys()"
   ]
  },
  {
   "cell_type": "code",
   "execution_count": 8,
   "metadata": {},
   "outputs": [
    {
     "data": {
      "text/plain": [
       "cid              int64\n",
       "month            int64\n",
       "spending       float64\n",
       "transaction      int64\n",
       "dtype: object"
      ]
     },
     "execution_count": 8,
     "metadata": {},
     "output_type": "execute_result"
    }
   ],
   "source": [
    "df.dtypes"
   ]
  },
  {
   "cell_type": "code",
   "execution_count": 9,
   "metadata": {},
   "outputs": [],
   "source": [
    "# Change cid column to categorical\n",
    "df['cid'] = df['cid'].astype('string')\n",
    "\n",
    "# Change month column to categorical\n",
    "df['month'] = df['month'].astype('string')"
   ]
  },
  {
   "cell_type": "code",
   "execution_count": 10,
   "metadata": {},
   "outputs": [
    {
     "name": "stdout",
     "output_type": "stream",
     "text": [
      "cid      string\n",
      "month    string\n",
      "dtype: object\n",
      "Index(['cid', 'month'], dtype='object')\n"
     ]
    },
    {
     "data": {
      "text/html": [
       "<div>\n",
       "<style scoped>\n",
       "    .dataframe tbody tr th:only-of-type {\n",
       "        vertical-align: middle;\n",
       "    }\n",
       "\n",
       "    .dataframe tbody tr th {\n",
       "        vertical-align: top;\n",
       "    }\n",
       "\n",
       "    .dataframe thead th {\n",
       "        text-align: right;\n",
       "    }\n",
       "</style>\n",
       "<table border=\"1\" class=\"dataframe\">\n",
       "  <thead>\n",
       "    <tr style=\"text-align: right;\">\n",
       "      <th></th>\n",
       "      <th>cid</th>\n",
       "      <th>month</th>\n",
       "    </tr>\n",
       "  </thead>\n",
       "  <tbody>\n",
       "    <tr>\n",
       "      <th>count</th>\n",
       "      <td>74669</td>\n",
       "      <td>74669</td>\n",
       "    </tr>\n",
       "    <tr>\n",
       "      <th>unique</th>\n",
       "      <td>10000</td>\n",
       "      <td>12</td>\n",
       "    </tr>\n",
       "    <tr>\n",
       "      <th>top</th>\n",
       "      <td>7657</td>\n",
       "      <td>4</td>\n",
       "    </tr>\n",
       "    <tr>\n",
       "      <th>freq</th>\n",
       "      <td>12</td>\n",
       "      <td>6394</td>\n",
       "    </tr>\n",
       "  </tbody>\n",
       "</table>\n",
       "</div>"
      ],
      "text/plain": [
       "          cid  month\n",
       "count   74669  74669\n",
       "unique  10000     12\n",
       "top      7657      4\n",
       "freq       12   6394"
      ]
     },
     "execution_count": 10,
     "metadata": {},
     "output_type": "execute_result"
    }
   ],
   "source": [
    "categorical = df.dtypes[df.dtypes == \"string\"]\n",
    "print(categorical)\n",
    "\n",
    "categorical = categorical.index\n",
    "print(categorical)\n",
    "\n",
    "df[categorical].describe()"
   ]
  },
  {
   "cell_type": "code",
   "execution_count": 11,
   "metadata": {},
   "outputs": [
    {
     "data": {
      "text/plain": [
       "<AxesSubplot:ylabel='Frequency'>"
      ]
     },
     "execution_count": 11,
     "metadata": {},
     "output_type": "execute_result"
    },
    {
     "data": {
      "image/png": "[encoded data removed]",
      "text/plain": [
       "<Figure size 1400x600 with 1 Axes>"
      ]
     },
     "metadata": {},
     "output_type": "display_data"
    }
   ],
   "source": [
    "# 4.Check quality\n",
    "df['spending'].plot(kind = \"hist\", bins = 100, figsize = (14, 6))"
   ]
  },
  {
   "cell_type": "code",
   "execution_count": 12,
   "metadata": {},
   "outputs": [
    {
     "data": {
      "text/plain": [
       "count    74669.000000\n",
       "mean       106.310297\n",
       "std         97.689002\n",
       "min         25.920000\n",
       "25%         56.060000\n",
       "50%         79.490000\n",
       "75%        120.890000\n",
       "max       3512.160000\n",
       "Name: spending, dtype: float64"
      ]
     },
     "execution_count": 12,
     "metadata": {},
     "output_type": "execute_result"
    }
   ],
   "source": [
    "df['spending'].describe()"
   ]
  },
  {
   "cell_type": "markdown",
   "metadata": {},
   "source": [
    "In a histogram, the horizontal axis lists the bins, or categories, of the data. The vertical axis lists the frequency, or amount, of the occurrences, which is represented by the height of the column"
   ]
  },
  {
   "cell_type": "code",
   "execution_count": 13,
   "metadata": {},
   "outputs": [
    {
     "data": {
      "text/plain": [
       "<AxesSubplot:ylabel='Frequency'>"
      ]
     },
     "execution_count": 13,
     "metadata": {},
     "output_type": "execute_result"
    },
    {
     "data": {
      "image/png": "[encoded data removed]",
      "text/plain": [
       "<Figure size 1400x600 with 1 Axes>"
      ]
     },
     "metadata": {},
     "output_type": "display_data"
    }
   ],
   "source": [
    "df['transaction'].plot(kind = \"hist\", bins = 100, figsize = (14, 6))"
   ]
  },
  {
   "cell_type": "code",
   "execution_count": 14,
   "metadata": {},
   "outputs": [
    {
     "data": {
      "text/plain": [
       "count    74669.000000\n",
       "mean        29.495641\n",
       "std          9.793271\n",
       "min          2.000000\n",
       "25%         23.000000\n",
       "50%         28.000000\n",
       "75%         34.000000\n",
       "max        148.000000\n",
       "Name: transaction, dtype: float64"
      ]
     },
     "execution_count": 14,
     "metadata": {},
     "output_type": "execute_result"
    }
   ],
   "source": [
    "df['transaction'].describe()"
   ]
  },
  {
   "cell_type": "markdown",
   "metadata": {},
   "source": [
    "#### Summarizing the data\n",
    "\n",
    "We would like you to calculate these values for each customers:\n",
    "1. **avg_spending:** average spending for each customer\n",
    "2. **std_spending:** standart deviation of spending for each customer\n",
    "3. **tot_spending:** total spending for each customer\n",
    "4. **tot_transaction:** total number of transaction for each customer\n",
    "5. **most_spending_month:** the month that each customer has the most spending    \n",
    "6. **most_transaction_month:** the month that each customer has the most transaction\n",
    "7. Print the results"
   ]
  },
  {
   "cell_type": "markdown",
   "metadata": {},
   "source": [
    "The output seen as:\n",
    "\n",
    "|   cid |   avg_spending |   std_spending |   tot_spending |   tot_transaction |   most_spending_month |   most_transaction_month |\n",
    "|------:|---------------:|---------------:|---------------:|------------------:|----------------------:|-------------------------:|\n",
    "|     1 |       102.39   |        86.3929 |         716.73 |               185 |                    11 |                       11 |\n",
    "|     2 |        71.3813 |        48.3853 |         571.05 |               266 |                     1 |                       12 |\n",
    "|     3 |        86.9167 |        50.4738 |         521.5  |               168 |                     9 |                        9 |\n",
    "|     4 |        86.3875 |        54.4722 |         345.55 |               101 |                    12 |                       12 |\n",
    "|     5 |       104.537  |        89.4826 |         627.22 |               169 |                    10 |                        6 |"
   ]
  },
  {
   "cell_type": "code",
   "execution_count": 23,
   "metadata": {
    "scrolled": true
   },
   "outputs": [],
   "source": [
    "avg_spending_list = []\n",
    "std_spending_list = []\n",
    "tot_spending_list = []\n",
    "tot_transaction_list = []\n",
    "most_spending_month_list = []\n",
    "most_transaction_month_list = []\n",
    "\n",
    "unique_cid_values = df['cid'].unique()\n",
    "\n",
    "for i in unique_cid_values:\n",
    "    spending = df[df['cid'] == i]['spending']\n",
    "    tot_spending = np.sum(spending.values)\n",
    "    std_spending = np.std(spending.values)\n",
    "    avg_spending = tot_spending / len(spending.values)\n",
    "    transaction = df[df['cid'] == i]['transaction']\n",
    "    tot_transaction = np.sum(transaction.values)\n",
    "    most_spending_month_idx = spending.idxmax()\n",
    "    most_spending_month = df.loc[most_spending_month_idx, 'month']\n",
    "    most_transaction_month_idx = transaction.idxmax()\n",
    "    most_transaction_month = df.loc[most_transaction_month_idx, 'month']\n",
    "    \n",
    "    avg_spending_list.append(avg_spending)\n",
    "    std_spending_list.append(std_spending)\n",
    "    tot_spending_list.append(tot_spending)\n",
    "    tot_transaction_list.append(tot_transaction)\n",
    "    most_spending_month_list.append(most_spending_month)\n",
    "    most_transaction_month_list.append(most_transaction_month)\n"
   ]
  },
  {
   "cell_type": "code",
   "execution_count": 26,
   "metadata": {},
   "outputs": [],
   "source": [
    "table = {\n",
    "    'avg_spending': avg_spending_list,\n",
    "    'std_spending': std_spending_list,\n",
    "    'tot_spending': tot_spending_list,\n",
    "    'tot_transaction': tot_transaction_list,\n",
    "    'most_spending_month': most_spending_month_list,\n",
    "    'most_transaction_month': most_transaction_month_list\n",
    "}\n"
   ]
  },
  {
   "cell_type": "code",
   "execution_count": 30,
   "metadata": {},
   "outputs": [
    {
     "data": {
      "text/html": [
       "<div>\n",
       "<style scoped>\n",
       "    .dataframe tbody tr th:only-of-type {\n",
       "        vertical-align: middle;\n",
       "    }\n",
       "\n",
       "    .dataframe tbody tr th {\n",
       "        vertical-align: top;\n",
       "    }\n",
       "\n",
       "    .dataframe thead th {\n",
       "        text-align: right;\n",
       "    }\n",
       "</style>\n",
       "<table border=\"1\" class=\"dataframe\">\n",
       "  <thead>\n",
       "    <tr style=\"text-align: right;\">\n",
       "      <th></th>\n",
       "      <th>avg_spending</th>\n",
       "      <th>std_spending</th>\n",
       "      <th>tot_spending</th>\n",
       "      <th>tot_transaction</th>\n",
       "      <th>most_spending_month</th>\n",
       "      <th>most_transaction_month</th>\n",
       "    </tr>\n",
       "    <tr>\n",
       "      <th>cid</th>\n",
       "      <th></th>\n",
       "      <th></th>\n",
       "      <th></th>\n",
       "      <th></th>\n",
       "      <th></th>\n",
       "      <th></th>\n",
       "    </tr>\n",
       "  </thead>\n",
       "  <tbody>\n",
       "    <tr>\n",
       "      <th>1</th>\n",
       "      <td>102.390000</td>\n",
       "      <td>79.984276</td>\n",
       "      <td>716.73</td>\n",
       "      <td>185</td>\n",
       "      <td>11</td>\n",
       "      <td>11</td>\n",
       "    </tr>\n",
       "    <tr>\n",
       "      <th>2</th>\n",
       "      <td>71.381250</td>\n",
       "      <td>45.260257</td>\n",
       "      <td>571.05</td>\n",
       "      <td>266</td>\n",
       "      <td>1</td>\n",
       "      <td>12</td>\n",
       "    </tr>\n",
       "    <tr>\n",
       "      <th>3</th>\n",
       "      <td>86.916667</td>\n",
       "      <td>46.076037</td>\n",
       "      <td>521.50</td>\n",
       "      <td>168</td>\n",
       "      <td>9</td>\n",
       "      <td>9</td>\n",
       "    </tr>\n",
       "    <tr>\n",
       "      <th>4</th>\n",
       "      <td>86.387500</td>\n",
       "      <td>47.174297</td>\n",
       "      <td>345.55</td>\n",
       "      <td>101</td>\n",
       "      <td>12</td>\n",
       "      <td>12</td>\n",
       "    </tr>\n",
       "    <tr>\n",
       "      <th>5</th>\n",
       "      <td>104.536667</td>\n",
       "      <td>81.686053</td>\n",
       "      <td>627.22</td>\n",
       "      <td>169</td>\n",
       "      <td>10</td>\n",
       "      <td>6</td>\n",
       "    </tr>\n",
       "    <tr>\n",
       "      <th>...</th>\n",
       "      <td>...</td>\n",
       "      <td>...</td>\n",
       "      <td>...</td>\n",
       "      <td>...</td>\n",
       "      <td>...</td>\n",
       "      <td>...</td>\n",
       "    </tr>\n",
       "    <tr>\n",
       "      <th>9996</th>\n",
       "      <td>63.520000</td>\n",
       "      <td>22.398836</td>\n",
       "      <td>381.12</td>\n",
       "      <td>147</td>\n",
       "      <td>4</td>\n",
       "      <td>3</td>\n",
       "    </tr>\n",
       "    <tr>\n",
       "      <th>9997</th>\n",
       "      <td>82.646250</td>\n",
       "      <td>34.922441</td>\n",
       "      <td>661.17</td>\n",
       "      <td>238</td>\n",
       "      <td>10</td>\n",
       "      <td>4</td>\n",
       "    </tr>\n",
       "    <tr>\n",
       "      <th>9998</th>\n",
       "      <td>75.912857</td>\n",
       "      <td>19.540664</td>\n",
       "      <td>531.39</td>\n",
       "      <td>237</td>\n",
       "      <td>5</td>\n",
       "      <td>10</td>\n",
       "    </tr>\n",
       "    <tr>\n",
       "      <th>9999</th>\n",
       "      <td>78.494444</td>\n",
       "      <td>30.308255</td>\n",
       "      <td>706.45</td>\n",
       "      <td>253</td>\n",
       "      <td>11</td>\n",
       "      <td>11</td>\n",
       "    </tr>\n",
       "    <tr>\n",
       "      <th>10000</th>\n",
       "      <td>156.152500</td>\n",
       "      <td>119.734566</td>\n",
       "      <td>1249.22</td>\n",
       "      <td>260</td>\n",
       "      <td>12</td>\n",
       "      <td>12</td>\n",
       "    </tr>\n",
       "  </tbody>\n",
       "</table>\n",
       "<p>10000 rows × 6 columns</p>\n",
       "</div>"
      ],
      "text/plain": [
       "       avg_spending  std_spending  tot_spending  tot_transaction  \\\n",
       "cid                                                                \n",
       "1        102.390000     79.984276        716.73              185   \n",
       "2         71.381250     45.260257        571.05              266   \n",
       "3         86.916667     46.076037        521.50              168   \n",
       "4         86.387500     47.174297        345.55              101   \n",
       "5        104.536667     81.686053        627.22              169   \n",
       "...             ...           ...           ...              ...   \n",
       "9996      63.520000     22.398836        381.12              147   \n",
       "9997      82.646250     34.922441        661.17              238   \n",
       "9998      75.912857     19.540664        531.39              237   \n",
       "9999      78.494444     30.308255        706.45              253   \n",
       "10000    156.152500    119.734566       1249.22              260   \n",
       "\n",
       "      most_spending_month most_transaction_month  \n",
       "cid                                               \n",
       "1                      11                     11  \n",
       "2                       1                     12  \n",
       "3                       9                      9  \n",
       "4                      12                     12  \n",
       "5                      10                      6  \n",
       "...                   ...                    ...  \n",
       "9996                    4                      3  \n",
       "9997                   10                      4  \n",
       "9998                    5                     10  \n",
       "9999                   11                     11  \n",
       "10000                  12                     12  \n",
       "\n",
       "[10000 rows x 6 columns]"
      ]
     },
     "execution_count": 30,
     "metadata": {},
     "output_type": "execute_result"
    }
   ],
   "source": [
    "table_df = pd.DataFrame(data = table)\n",
    "table_df.index = [x for x in range (1, len(table_df.values) + 1)]\n",
    "table_df.index.name = 'cid'\n",
    "#table_df.set_index('cid', inplace=True)\n",
    "table_df"
   ]
  },
  {
   "cell_type": "markdown",
   "metadata": {},
   "source": [
    "#### Data Understanding\n",
    "1. Plot the histogram for average spending of costumer\n",
    "2. Calculate mean, mode, median of the distribution (*you should round the values before calculating the mode*)\n",
    "3. Explain the type of the distributon that describes the pattern in the histogram; justify your answer with mean, mode median (*you can answer this question in the comment*)"
   ]
  },
  {
   "cell_type": "code",
   "execution_count": 44,
   "metadata": {},
   "outputs": [
    {
     "data": {
      "text/plain": [
       "<AxesSubplot:ylabel='Frequency'>"
      ]
     },
     "execution_count": 44,
     "metadata": {},
     "output_type": "execute_result"
    },
    {
     "data": {
      "image/png": "[encoded data removed]",
      "text/plain": [
       "<Figure size 1400x600 with 1 Axes>"
      ]
     },
     "metadata": {},
     "output_type": "display_data"
    }
   ],
   "source": [
    "#1. Plot the histogram for average spending of costumer\n",
    "table_df['avg_spending'].plot(kind = 'hist', bins = 300, figsize = (14, 6))"
   ]
  },
  {
   "cell_type": "code",
   "execution_count": 57,
   "metadata": {},
   "outputs": [
    {
     "data": {
      "text/plain": [
       "106.28648511334748"
      ]
     },
     "execution_count": 57,
     "metadata": {},
     "output_type": "execute_result"
    }
   ],
   "source": [
    "#2. Calculate mean, mode, median of the distribution (you should round the values before calculating the mode)\n",
    "mean = table_df['avg_spending'].mean()\n",
    "mean"
   ]
  },
  {
   "cell_type": "code",
   "execution_count": 58,
   "metadata": {},
   "outputs": [
    {
     "data": {
      "text/plain": [
       "86.0"
      ]
     },
     "execution_count": 58,
     "metadata": {},
     "output_type": "execute_result"
    }
   ],
   "source": [
    "mode = table_df['avg_spending'].round().mode()[0]\n",
    "mode"
   ]
  },
  {
   "cell_type": "code",
   "execution_count": 59,
   "metadata": {},
   "outputs": [
    {
     "data": {
      "text/plain": [
       "98.445"
      ]
     },
     "execution_count": 59,
     "metadata": {},
     "output_type": "execute_result"
    }
   ],
   "source": [
    "median = table_df['avg_spending'].median()\n",
    "median "
   ]
  },
  {
   "cell_type": "code",
   "execution_count": 60,
   "metadata": {},
   "outputs": [
    {
     "data": {
      "text/plain": [
       "<matplotlib.lines.Line2D at 0x2b88e0f19a0>"
      ]
     },
     "execution_count": 60,
     "metadata": {},
     "output_type": "execute_result"
    },
    {
     "data": {
      "image/png": "[encoded data removed]",
      "text/plain": [
       "<Figure size 1400x600 with 1 Axes>"
      ]
     },
     "metadata": {},
     "output_type": "display_data"
    }
   ],
   "source": [
    "ax = table_df['avg_spending'].plot(kind = 'hist', bins = 300, figsize = (14, 6))\n",
    "ax.axvline(mean, color = 'orange')\n",
    "ax.axvline(mode, color = 'purple')\n",
    "ax.axvline(median, color = 'blue')\n"
   ]
  },
  {
   "cell_type": "code",
   "execution_count": null,
   "metadata": {},
   "outputs": [],
   "source": [
    "#3. Explain the type of the distributon that describes the pattern in the histogram; justify your answer with mean, mode median (you can answer this question in the comment)"
   ]
  },
  {
   "cell_type": "markdown",
   "metadata": {},
   "source": [
    "## Question 2"
   ]
  },
  {
   "cell_type": "markdown",
   "metadata": {},
   "source": [
    "#### Write a function to replace all spaces in a string with '--' using an array \n",
    "Make sure that your function O(n) runtime complexity and do not use built-in replace() function.\n",
    "\n",
    "<b>Example input</b>: \"Mr John Smith, 13\" <br>\n",
    "<b>Example output</b>: \"Mr--John--Smith\" <br>\n",
    "\n",
    "You may assume that the array has sufficient space at the end to hold the additional characters, and you are given the true length of the string with the input. Here \"13\" represents the actual length of the string."
   ]
  },
  {
   "cell_type": "code",
   "execution_count": null,
   "metadata": {},
   "outputs": [],
   "source": [
    "def space_remover(input_str):    \n",
    "    #write your solution here\n",
    "    output_str = ''\n",
    "    for char in input_str.split(',')[0]:\n",
    "        if char == ' ':\n",
    "            output_str += '--'\n",
    "        else:\n",
    "            output_str += char\n",
    "            \n",
    "    return output_str"
   ]
  },
  {
   "cell_type": "code",
   "execution_count": null,
   "metadata": {},
   "outputs": [],
   "source": [
    "#test your solution here\n",
    "input_str1 = 'Mr John Smith, 13'\n",
    "print(space_remover(input_str1)) # expected solution is 'Mr--John--Smith'\n",
    "input_str1 = 'Woow Data Science, 17'\n",
    "print(space_remover(input_str1)) # expected solution is 'Woow--Data--Science'"
   ]
  },
  {
   "cell_type": "markdown",
   "metadata": {},
   "source": [
    "## Question 3"
   ]
  },
  {
   "cell_type": "markdown",
   "metadata": {},
   "source": [
    "#### Using regular expression do following operations on **lorem_ipsum_text**:\n",
    "1. Delete all characters if they are not letters (A-z) and spaces \n",
    "2. Find the count of all occurrence of the words that ends with 'us' but not 'llus'\n",
    "3. Replace all 'ae' with 'æ', (*Don't forget 'Aenean => Ænean'*)\n",
    "3. Replace all the vowels following by 'll' if the word does not end with that vowel as:\n",
    "    - a => @ (ex: nullam => null@m, but nulla => nulla)\n",
    "    - e => 3\n",
    "    - i => %\n",
    "    - o => 0\n",
    "    - u => &\n",
    "\n",
    "Print the results"
   ]
  },
  {
   "cell_type": "code",
   "execution_count": 76,
   "metadata": {},
   "outputs": [],
   "source": [
    "import re\n",
    "\n",
    "lorem_ipsum_text = \"\"\"Lorem ipsum dolor sit amet, consectetur adipiscing elit. Ut sed rhoncus sem, et sagittis tellus. Donec hendrerit sapien ac purus pretium tincidunt. Orci varius natoque penatibus et magnis dis parturient montes, nascetur ridiculus mus. Pellentesque aliquet, lectus eget finibus aliquet, tortor quam semper justo, sed venenatis nunc lectus a arcu. Vivamus egestas rhoncus dolor, vitae sollicitudin urna. Integer eleifend purus eget porta sagittis. Phasellus malesuada ex nibh, a lobortis tellus tempor hendrerit. Integer tincidunt ante et varius semper. Maecenas quis finibus lacus.\n",
    "Sed luctus varius nisi, ac pulvinar erat gravida sit amet. Mauris gravida scelerisque nisi vel sollicitudin. In porta diam nec lorem bibendum semper. Cras ut imperdiet sem, vel bibendum risus. Nulla suscipit enim et efficitur interdum. Mauris consectetur porttitor ipsum. Praesent a tortor quis arcu porttitor ullamcorper ac et diam. Pellentesque rhoncus ultrices facilisis. Pellentesque lectus quam, vestibulum in erat non, venenatis vehicula augue. Praesent at viverra est. Integer libero neque, commodo ut ipsum ac, vulputate pharetra libero. Pellentesque in rhoncus magna. In hac habitasse platea dictumst.\n",
    "Praesent ultrices vel elit vel auctor. Nulla vitae ligula in elit mattis aliquam. Quisque vitae finibus enim. Praesent id maximus mauris. Nunc in pulvinar ligula. Donec condimentum condimentum ipsum aliquet volutpat. Maecenas non porta nunc. Donec risus nulla, pharetra in rhoncus sit amet, efficitur quis urna.\n",
    "Praesent diam ante, ultrices eget libero sit amet, semper auctor metus. Aliquam sit amet vulputate nibh. Suspendisse potenti. Duis dui ligula, consectetur egestas nibh nec, ullamcorper iaculis turpis. Ut volutpat lacus in leo porta, a lobortis diam placerat. Aenean iaculis, leo at semper fringilla, lectus magna rutrum neque, sollicitudin accumsan est felis at purus. Phasellus et scelerisque libero, ac malesuada nulla. Pellentesque maximus eget erat ac consequat. Ut elementum sapien sed leo aliquam, at ultrices elit venenatis. Duis accumsan finibus imperdiet. Vestibulum ante ipsum primis in faucibus orci luctus et ultrices posuere cubilia curae;\n",
    "Nulla augue nunc, pharetra quis tellus sed, egestas luctus mi. Fusce hendrerit sagittis urna eleifend varius. Vestibulum velit magna, aliquam nec tincidunt hendrerit, aliquam non ex. Maecenas ut sem imperdiet, semper metus et, gravida quam. Mauris placerat sed erat sed dapibus. Aliquam a suscipit elit. Fusce non dolor justo. Suspendisse dictum posuere faucibus. Proin pretium ipsum vitae orci sagittis placerat. Nulla hendrerit erat sit amet nunc tristique, quis lacinia enim lobortis. Aenean in pretium augue. Proin posuere purus at nulla ultrices molestie. Morbi et pharetra justo. In vel arcu elit. Nullam at est id odio bibendum iaculis nec dapibus velit.\n",
    "\"\"\""
   ]
  },
  {
   "cell_type": "code",
   "execution_count": 77,
   "metadata": {},
   "outputs": [
    {
     "name": "stdout",
     "output_type": "stream",
     "text": [
      "Lorem ipsum dolor sit amet consectetur adipiscing elit Ut sed rhoncus sem et sagittis tellus Donec hendrerit sapien ac purus pretium tincidunt Orci varius natoque penatibus et magnis dis parturient montes nascetur ridiculus mus Pellentesque aliquet lectus eget finibus aliquet tortor quam semper justo sed venenatis nunc lectus a arcu Vivamus egestas rhoncus dolor vitae sollicitudin urna Integer eleifend purus eget porta sagittis Phasellus malesuada ex nibh a lobortis tellus tempor hendrerit Integer tincidunt ante et varius semper Maecenas quis finibus lacusSed luctus varius nisi ac pulvinar erat gravida sit amet Mauris gravida scelerisque nisi vel sollicitudin In porta diam nec lorem bibendum semper Cras ut imperdiet sem vel bibendum risus Nulla suscipit enim et efficitur interdum Mauris consectetur porttitor ipsum Praesent a tortor quis arcu porttitor ullamcorper ac et diam Pellentesque rhoncus ultrices facilisis Pellentesque lectus quam vestibulum in erat non venenatis vehicula augue Praesent at viverra est Integer libero neque commodo ut ipsum ac vulputate pharetra libero Pellentesque in rhoncus magna In hac habitasse platea dictumstPraesent ultrices vel elit vel auctor Nulla vitae ligula in elit mattis aliquam Quisque vitae finibus enim Praesent id maximus mauris Nunc in pulvinar ligula Donec condimentum condimentum ipsum aliquet volutpat Maecenas non porta nunc Donec risus nulla pharetra in rhoncus sit amet efficitur quis urnaPraesent diam ante ultrices eget libero sit amet semper auctor metus Aliquam sit amet vulputate nibh Suspendisse potenti Duis dui ligula consectetur egestas nibh nec ullamcorper iaculis turpis Ut volutpat lacus in leo porta a lobortis diam placerat Aenean iaculis leo at semper fringilla lectus magna rutrum neque sollicitudin accumsan est felis at purus Phasellus et scelerisque libero ac malesuada nulla Pellentesque maximus eget erat ac consequat Ut elementum sapien sed leo aliquam at ultrices elit venenatis Duis accumsan finibus imperdiet Vestibulum ante ipsum primis in faucibus orci luctus et ultrices posuere cubilia curaeNulla augue nunc pharetra quis tellus sed egestas luctus mi Fusce hendrerit sagittis urna eleifend varius Vestibulum velit magna aliquam nec tincidunt hendrerit aliquam non ex Maecenas ut sem imperdiet semper metus et gravida quam Mauris placerat sed erat sed dapibus Aliquam a suscipit elit Fusce non dolor justo Suspendisse dictum posuere faucibus Proin pretium ipsum vitae orci sagittis placerat Nulla hendrerit erat sit amet nunc tristique quis lacinia enim lobortis Aenean in pretium augue Proin posuere purus at nulla ultrices molestie Morbi et pharetra justo In vel arcu elit Nullam at est id odio bibendum iaculis nec dapibus velit\n"
     ]
    }
   ],
   "source": [
    "#Delete all characters if they are not letters (A-z) and spaces\n",
    "seperated = list(lorem_ipsum_text)\n",
    "new_list = []\n",
    "for i in seperated:\n",
    "    if i.isalnum() or i == ' ':\n",
    "        new_list.append(i)\n",
    "new_lorem_ipsum = ''.join(new_list)\n",
    "print(new_lorem_ipsum)\n"
   ]
  },
  {
   "cell_type": "code",
   "execution_count": 78,
   "metadata": {},
   "outputs": [
    {
     "name": "stdout",
     "output_type": "stream",
     "text": [
      "The number of words that end with 'us' but not 'llus' is: 32\n"
     ]
    }
   ],
   "source": [
    "#Find the count of all occurrence of the words that ends with 'us' but not 'llus'\n",
    "# Split the text into words\n",
    "words = lorem_ipsum_text.split()\n",
    "\n",
    "# Count the number of words that end with 'us' but not 'llus'\n",
    "count = 0\n",
    "for word in words:\n",
    "    if word.endswith('us') and not word.endswith('llus'):\n",
    "        count += 1\n",
    "\n",
    "# Print the result\n",
    "print(\"The number of words that end with 'us' but not 'llus' is:\", count)\n",
    "        "
   ]
  },
  {
   "cell_type": "code",
   "execution_count": 80,
   "metadata": {
    "scrolled": false
   },
   "outputs": [
    {
     "name": "stdout",
     "output_type": "stream",
     "text": [
      "Lorem ipsum dolor sit amet, consectetur adipiscing elit. Ut sed rhoncus sem, et sagittis tellus. Donec hendrerit sapien ac purus pretium tincidunt. Orci varius natoque penatibus et magnis dis parturient montes, nascetur ridiculus mus. Pellentesque aliquet, lectus eget finibus aliquet, tortor quam semper justo, sed venenatis nunc lectus a arcu. Vivamus egestas rhoncus dolor, vitæ sollicitudin urna. Integer eleifend purus eget porta sagittis. Phasellus malesuada ex nibh, a lobortis tellus tempor hendrerit. Integer tincidunt ante et varius semper. Mæcenas quis finibus lacus. Sed luctus varius nisi, ac pulvinar erat gravida sit amet. Mauris gravida scelerisque nisi vel sollicitudin. In porta diam nec lorem bibendum semper. Cras ut imperdiet sem, vel bibendum risus. Nulla suscipit enim et efficitur interdum. Mauris consectetur porttitor ipsum. Præsent a tortor quis arcu porttitor ullamcorper ac et diam. Pellentesque rhoncus ultrices facilisis. Pellentesque lectus quam, vestibulum in erat non, venenatis vehicula augue. Præsent at viverra est. Integer libero neque, commodo ut ipsum ac, vulputate pharetra libero. Pellentesque in rhoncus magna. In hac habitasse platea dictumst. Præsent ultrices vel elit vel auctor. Nulla vitæ ligula in elit mattis aliquam. Quisque vitæ finibus enim. Præsent id maximus mauris. Nunc in pulvinar ligula. Donec condimentum condimentum ipsum aliquet volutpat. Mæcenas non porta nunc. Donec risus nulla, pharetra in rhoncus sit amet, efficitur quis urna. Præsent diam ante, ultrices eget libero sit amet, semper auctor metus. Aliquam sit amet vulputate nibh. Suspendisse potenti. Duis dui ligula, consectetur egestas nibh nec, ullamcorper iaculis turpis. Ut volutpat lacus in leo porta, a lobortis diam placerat. Ænean iaculis, leo at semper fringilla, lectus magna rutrum neque, sollicitudin accumsan est felis at purus. Phasellus et scelerisque libero, ac malesuada nulla. Pellentesque maximus eget erat ac consequat. Ut elementum sapien sed leo aliquam, at ultrices elit venenatis. Duis accumsan finibus imperdiet. Vestibulum ante ipsum primis in faucibus orci luctus et ultrices posuere cubilia curæ; Nulla augue nunc, pharetra quis tellus sed, egestas luctus mi. Fusce hendrerit sagittis urna eleifend varius. Vestibulum velit magna, aliquam nec tincidunt hendrerit, aliquam non ex. Mæcenas ut sem imperdiet, semper metus et, gravida quam. Mauris placerat sed erat sed dapibus. Aliquam a suscipit elit. Fusce non dolor justo. Suspendisse dictum posuere faucibus. Proin pretium ipsum vitæ orci sagittis placerat. Nulla hendrerit erat sit amet nunc tristique, quis lacinia enim lobortis. Ænean in pretium augue. Proin posuere purus at nulla ultrices molestie. Morbi et pharetra justo. In vel arcu elit. Nullam at est id odio bibendum iaculis nec dapibus velit.\n"
     ]
    }
   ],
   "source": [
    "# Replace all 'ae' with 'æ', (Don't forget 'Aenean => Ænean')\n",
    "words = lorem_ipsum_text.split()\n",
    "\n",
    "for i in range(len(words)):\n",
    "    if 'ae' in words[i]:\n",
    "        words[i] = words[i].replace('ae', 'æ')\n",
    "    if 'Ae' in words[i]:\n",
    "        words[i] = words[i].replace('Ae', 'Æ')\n",
    "\n",
    "lorem_ipsum_text = ' '.join(words)\n",
    "\n",
    "print(lorem_ipsum_text)"
   ]
  },
  {
   "cell_type": "code",
   "execution_count": null,
   "metadata": {},
   "outputs": [],
   "source": [
    "#Replace all the vowels following by 'll' if the word does not end with that vowel as:\n",
    "\n",
    "\n"
   ]
  },
  {
   "cell_type": "markdown",
   "metadata": {},
   "source": [
    "## Question 4"
   ]
  },
  {
   "cell_type": "markdown",
   "metadata": {},
   "source": [
    "You should write your code in **SQL programming language**. Don't forgot that you can not run your code in this notebook."
   ]
  },
  {
   "cell_type": "markdown",
   "metadata": {},
   "source": [
    "Consider the \"Employee\" table below:"
   ]
  },
  {
   "cell_type": "markdown",
   "metadata": {},
   "source": [
    "| Emp_Id  | Emp_name  | Salary  | Manager_Id  |\n",
    "|---|---|---|---|\n",
    "| 10 | Anil  | 50000  |  18 |\n",
    "| 11 | Vikas  | 75000  |   16 |\n",
    "| 12 | Nisha | 40000 |  18 |\n",
    "| 13 | Nidhi  | 60000 | 17  |\n",
    "| 14 | Priya  | 80000 |  18 |\n",
    "| 15 | Mohit |  45000 |  18 |\n",
    "| 16 | Rajesh  | 90000 | -  |\n",
    "| 17 | Raman  | 55000 | 16  |\n",
    "| 18 | Santosh  | 65000 |  17 |"
   ]
  },
  {
   "cell_type": "markdown",
   "metadata": {},
   "source": [
    "Write a query to generate below output:"
   ]
  },
  {
   "cell_type": "markdown",
   "metadata": {},
   "source": [
    "| Manager_Id  | Manager  | Average_Salary_Under_Manager  |\n",
    "|---|---|---|\n",
    "| 16 | Rajesh  | 65000  |\n",
    "| 17 | Raman  | 62500  |\n",
    "| 18 | Santosh | 53750 |"
   ]
  },
  {
   "cell_type": "code",
   "execution_count": null,
   "metadata": {},
   "outputs": [],
   "source": [
    "#Write your SQL Code here."
   ]
  },
  {
   "cell_type": "markdown",
   "metadata": {},
   "source": [
    "##  Thank you.."
   ]
  }
 ],
 "metadata": {
  "environment": {
   "name": "tf2-gpu.2-1.m46",
   "type": "gcloud",
   "uri": "gcr.io/deeplearning-platform-release/tf2-gpu.2-1:m46"
  },
  "kernelspec": {
   "display_name": "Python 3 (ipykernel)",
   "language": "python",
   "name": "python3"
  },
  "language_info": {
   "codemirror_mode": {
    "name": "ipython",
    "version": 3
   },
   "file_extension": ".py",
   "mimetype": "text/x-python",
   "name": "python",
   "nbconvert_exporter": "python",
   "pygments_lexer": "ipython3",
   "version": "3.9.13"
  }
 },
 "nbformat": 4,
 "nbformat_minor": 4
}
