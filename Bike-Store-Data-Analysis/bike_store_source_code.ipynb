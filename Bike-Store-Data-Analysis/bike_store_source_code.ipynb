{
 "cells": [
  {
   "cell_type": "code",
   "execution_count": 1,
   "id": "a423e341",
   "metadata": {
    "_cell_guid": "b1076dfc-b9ad-4769-8c92-a6c4dae69d19",
    "_uuid": "8f2839f25d086af736a60e9eeb907d3b93b6e0e5",
    "execution": {
     "iopub.execute_input": "2023-02-11T13:15:00.820510Z",
     "iopub.status.busy": "2023-02-11T13:15:00.820093Z",
     "iopub.status.idle": "2023-02-11T13:15:00.842524Z",
     "shell.execute_reply": "2023-02-11T13:15:00.841818Z"
    },
    "papermill": {
     "duration": 0.041092,
     "end_time": "2023-02-11T13:15:00.844704",
     "exception": false,
     "start_time": "2023-02-11T13:15:00.803612",
     "status": "completed"
    },
    "tags": []
   },
   "outputs": [
    {
     "name": "stdout",
     "output_type": "stream",
     "text": [
      "/kaggle/input/bike-sales-in-europe/Sales.csv\n"
     ]
    }
   ],
   "source": [
    "# This Python 3 environment comes with many helpful analytics libraries installed\n",
    "# It is defined by the kaggle/python Docker image: https://github.com/kaggle/docker-python\n",
    "# For example, here's several helpful packages to load\n",
    "\n",
    "import numpy as np # linear algebra\n",
    "import pandas as pd # data processing, CSV file I/O (e.g. pd.read_csv)\n",
    "\n",
    "# Input data files are available in the read-only \"../input/\" directory\n",
    "# For example, running this (by clicking run or pressing Shift+Enter) will list all files under the input directory\n",
    "\n",
    "import os\n",
    "for dirname, _, filenames in os.walk('/kaggle/input'):\n",
    "    for filename in filenames:\n",
    "        print(os.path.join(dirname, filename))\n",
    "\n",
    "# You can write up to 20GB to the current directory (/kaggle/working/) that gets preserved as output when you create a version using \"Save & Run All\" \n",
    "# You can also write temporary files to /kaggle/temp/, but they won't be saved outside of the current session"
   ]
  },
  {
   "cell_type": "code",
   "execution_count": 2,
   "id": "e48b1329",
   "metadata": {
    "execution": {
     "iopub.execute_input": "2023-02-11T13:15:00.876997Z",
     "iopub.status.busy": "2023-02-11T13:15:00.876393Z",
     "iopub.status.idle": "2023-02-11T13:15:00.881887Z",
     "shell.execute_reply": "2023-02-11T13:15:00.880954Z"
    },
    "papermill": {
     "duration": 0.022317,
     "end_time": "2023-02-11T13:15:00.883848",
     "exception": false,
     "start_time": "2023-02-11T13:15:00.861531",
     "status": "completed"
    },
    "tags": []
   },
   "outputs": [],
   "source": [
    "import numpy as np\n",
    "import pandas as pd\n",
    "import matplotlib.pyplot as plt\n",
    "\n",
    "%matplotlib inline"
   ]
  },
  {
   "cell_type": "code",
   "execution_count": 3,
   "id": "fc121ec7",
   "metadata": {
    "execution": {
     "iopub.execute_input": "2023-02-11T13:15:00.912952Z",
     "iopub.status.busy": "2023-02-11T13:15:00.912322Z",
     "iopub.status.idle": "2023-02-11T13:15:01.343453Z",
     "shell.execute_reply": "2023-02-11T13:15:01.341864Z"
    },
    "papermill": {
     "duration": 0.449023,
     "end_time": "2023-02-11T13:15:01.346422",
     "exception": false,
     "start_time": "2023-02-11T13:15:00.897399",
     "status": "completed"
    },
    "tags": []
   },
   "outputs": [],
   "source": [
    "sales = pd.read_csv('/kaggle/input/bike-sales-in-europe/Sales.csv', parse_dates = ['Date'])"
   ]
  },
  {
   "cell_type": "code",
   "execution_count": 4,
   "id": "f28940a5",
   "metadata": {
    "execution": {
     "iopub.execute_input": "2023-02-11T13:15:01.377529Z",
     "iopub.status.busy": "2023-02-11T13:15:01.377163Z",
     "iopub.status.idle": "2023-02-11T13:15:01.385278Z",
     "shell.execute_reply": "2023-02-11T13:15:01.384215Z"
    },
    "papermill": {
     "duration": 0.025965,
     "end_time": "2023-02-11T13:15:01.387315",
     "exception": false,
     "start_time": "2023-02-11T13:15:01.361350",
     "status": "completed"
    },
    "tags": []
   },
   "outputs": [
    {
     "data": {
      "text/plain": [
       "(113036, 18)"
      ]
     },
     "execution_count": 4,
     "metadata": {},
     "output_type": "execute_result"
    }
   ],
   "source": [
    "sales.shape"
   ]
  },
  {
   "cell_type": "code",
   "execution_count": 5,
   "id": "feae1f3c",
   "metadata": {
    "execution": {
     "iopub.execute_input": "2023-02-11T13:15:01.417344Z",
     "iopub.status.busy": "2023-02-11T13:15:01.416942Z",
     "iopub.status.idle": "2023-02-11T13:15:01.429686Z",
     "shell.execute_reply": "2023-02-11T13:15:01.428498Z"
    },
    "papermill": {
     "duration": 0.03024,
     "end_time": "2023-02-11T13:15:01.431654",
     "exception": false,
     "start_time": "2023-02-11T13:15:01.401414",
     "status": "completed"
    },
    "tags": []
   },
   "outputs": [
    {
     "data": {
      "text/plain": [
       "Date                datetime64[ns]\n",
       "Day                          int64\n",
       "Month                       object\n",
       "Year                         int64\n",
       "Customer_Age                 int64\n",
       "Age_Group                   object\n",
       "Customer_Gender             object\n",
       "Country                     object\n",
       "State                       object\n",
       "Product_Category            object\n",
       "Sub_Category                object\n",
       "Product                     object\n",
       "Order_Quantity               int64\n",
       "Unit_Cost                    int64\n",
       "Unit_Price                   int64\n",
       "Profit                       int64\n",
       "Cost                         int64\n",
       "Revenue                      int64\n",
       "dtype: object"
      ]
     },
     "execution_count": 5,
     "metadata": {},
     "output_type": "execute_result"
    }
   ],
   "source": [
    "sales.dtypes\n",
    "# sales.info()"
   ]
  },
  {
   "cell_type": "markdown",
   "id": "49d1eeec",
   "metadata": {
    "papermill": {
     "duration": 0.01388,
     "end_time": "2023-02-11T13:15:01.459789",
     "exception": false,
     "start_time": "2023-02-11T13:15:01.445909",
     "status": "completed"
    },
    "tags": []
   },
   "source": [
    "The **\"parse_dates\"** argument specifies that the **\"Date\"** column should be parsed as a date and not as a string. The data from the file will be loaded into a Pandas DataFrame named **\"sales\"**."
   ]
  },
  {
   "cell_type": "code",
   "execution_count": 6,
   "id": "2b503aa4",
   "metadata": {
    "execution": {
     "iopub.execute_input": "2023-02-11T13:15:01.489400Z",
     "iopub.status.busy": "2023-02-11T13:15:01.489008Z",
     "iopub.status.idle": "2023-02-11T13:15:01.510789Z",
     "shell.execute_reply": "2023-02-11T13:15:01.509452Z"
    },
    "papermill": {
     "duration": 0.039295,
     "end_time": "2023-02-11T13:15:01.513086",
     "exception": false,
     "start_time": "2023-02-11T13:15:01.473791",
     "status": "completed"
    },
    "tags": []
   },
   "outputs": [
    {
     "data": {
      "text/html": [
       "<div>\n",
       "<style scoped>\n",
       "    .dataframe tbody tr th:only-of-type {\n",
       "        vertical-align: middle;\n",
       "    }\n",
       "\n",
       "    .dataframe tbody tr th {\n",
       "        vertical-align: top;\n",
       "    }\n",
       "\n",
       "    .dataframe thead th {\n",
       "        text-align: right;\n",
       "    }\n",
       "</style>\n",
       "<table border=\"1\" class=\"dataframe\">\n",
       "  <thead>\n",
       "    <tr style=\"text-align: right;\">\n",
       "      <th></th>\n",
       "      <th>Date</th>\n",
       "      <th>Day</th>\n",
       "      <th>Month</th>\n",
       "      <th>Year</th>\n",
       "      <th>Customer_Age</th>\n",
       "      <th>Age_Group</th>\n",
       "      <th>Customer_Gender</th>\n",
       "      <th>Country</th>\n",
       "      <th>State</th>\n",
       "      <th>Product_Category</th>\n",
       "      <th>Sub_Category</th>\n",
       "      <th>Product</th>\n",
       "      <th>Order_Quantity</th>\n",
       "      <th>Unit_Cost</th>\n",
       "      <th>Unit_Price</th>\n",
       "      <th>Profit</th>\n",
       "      <th>Cost</th>\n",
       "      <th>Revenue</th>\n",
       "    </tr>\n",
       "  </thead>\n",
       "  <tbody>\n",
       "    <tr>\n",
       "      <th>0</th>\n",
       "      <td>2013-11-26</td>\n",
       "      <td>26</td>\n",
       "      <td>November</td>\n",
       "      <td>2013</td>\n",
       "      <td>19</td>\n",
       "      <td>Youth (&lt;25)</td>\n",
       "      <td>M</td>\n",
       "      <td>Canada</td>\n",
       "      <td>British Columbia</td>\n",
       "      <td>Accessories</td>\n",
       "      <td>Bike Racks</td>\n",
       "      <td>Hitch Rack - 4-Bike</td>\n",
       "      <td>8</td>\n",
       "      <td>45</td>\n",
       "      <td>120</td>\n",
       "      <td>590</td>\n",
       "      <td>360</td>\n",
       "      <td>950</td>\n",
       "    </tr>\n",
       "    <tr>\n",
       "      <th>1</th>\n",
       "      <td>2015-11-26</td>\n",
       "      <td>26</td>\n",
       "      <td>November</td>\n",
       "      <td>2015</td>\n",
       "      <td>19</td>\n",
       "      <td>Youth (&lt;25)</td>\n",
       "      <td>M</td>\n",
       "      <td>Canada</td>\n",
       "      <td>British Columbia</td>\n",
       "      <td>Accessories</td>\n",
       "      <td>Bike Racks</td>\n",
       "      <td>Hitch Rack - 4-Bike</td>\n",
       "      <td>8</td>\n",
       "      <td>45</td>\n",
       "      <td>120</td>\n",
       "      <td>590</td>\n",
       "      <td>360</td>\n",
       "      <td>950</td>\n",
       "    </tr>\n",
       "    <tr>\n",
       "      <th>2</th>\n",
       "      <td>2014-03-23</td>\n",
       "      <td>23</td>\n",
       "      <td>March</td>\n",
       "      <td>2014</td>\n",
       "      <td>49</td>\n",
       "      <td>Adults (35-64)</td>\n",
       "      <td>M</td>\n",
       "      <td>Australia</td>\n",
       "      <td>New South Wales</td>\n",
       "      <td>Accessories</td>\n",
       "      <td>Bike Racks</td>\n",
       "      <td>Hitch Rack - 4-Bike</td>\n",
       "      <td>23</td>\n",
       "      <td>45</td>\n",
       "      <td>120</td>\n",
       "      <td>1366</td>\n",
       "      <td>1035</td>\n",
       "      <td>2401</td>\n",
       "    </tr>\n",
       "    <tr>\n",
       "      <th>3</th>\n",
       "      <td>2016-03-23</td>\n",
       "      <td>23</td>\n",
       "      <td>March</td>\n",
       "      <td>2016</td>\n",
       "      <td>49</td>\n",
       "      <td>Adults (35-64)</td>\n",
       "      <td>M</td>\n",
       "      <td>Australia</td>\n",
       "      <td>New South Wales</td>\n",
       "      <td>Accessories</td>\n",
       "      <td>Bike Racks</td>\n",
       "      <td>Hitch Rack - 4-Bike</td>\n",
       "      <td>20</td>\n",
       "      <td>45</td>\n",
       "      <td>120</td>\n",
       "      <td>1188</td>\n",
       "      <td>900</td>\n",
       "      <td>2088</td>\n",
       "    </tr>\n",
       "    <tr>\n",
       "      <th>4</th>\n",
       "      <td>2014-05-15</td>\n",
       "      <td>15</td>\n",
       "      <td>May</td>\n",
       "      <td>2014</td>\n",
       "      <td>47</td>\n",
       "      <td>Adults (35-64)</td>\n",
       "      <td>F</td>\n",
       "      <td>Australia</td>\n",
       "      <td>New South Wales</td>\n",
       "      <td>Accessories</td>\n",
       "      <td>Bike Racks</td>\n",
       "      <td>Hitch Rack - 4-Bike</td>\n",
       "      <td>4</td>\n",
       "      <td>45</td>\n",
       "      <td>120</td>\n",
       "      <td>238</td>\n",
       "      <td>180</td>\n",
       "      <td>418</td>\n",
       "    </tr>\n",
       "  </tbody>\n",
       "</table>\n",
       "</div>"
      ],
      "text/plain": [
       "        Date  Day     Month  Year  Customer_Age       Age_Group  \\\n",
       "0 2013-11-26   26  November  2013            19     Youth (<25)   \n",
       "1 2015-11-26   26  November  2015            19     Youth (<25)   \n",
       "2 2014-03-23   23     March  2014            49  Adults (35-64)   \n",
       "3 2016-03-23   23     March  2016            49  Adults (35-64)   \n",
       "4 2014-05-15   15       May  2014            47  Adults (35-64)   \n",
       "\n",
       "  Customer_Gender    Country             State Product_Category Sub_Category  \\\n",
       "0               M     Canada  British Columbia      Accessories   Bike Racks   \n",
       "1               M     Canada  British Columbia      Accessories   Bike Racks   \n",
       "2               M  Australia   New South Wales      Accessories   Bike Racks   \n",
       "3               M  Australia   New South Wales      Accessories   Bike Racks   \n",
       "4               F  Australia   New South Wales      Accessories   Bike Racks   \n",
       "\n",
       "               Product  Order_Quantity  Unit_Cost  Unit_Price  Profit  Cost  \\\n",
       "0  Hitch Rack - 4-Bike               8         45         120     590   360   \n",
       "1  Hitch Rack - 4-Bike               8         45         120     590   360   \n",
       "2  Hitch Rack - 4-Bike              23         45         120    1366  1035   \n",
       "3  Hitch Rack - 4-Bike              20         45         120    1188   900   \n",
       "4  Hitch Rack - 4-Bike               4         45         120     238   180   \n",
       "\n",
       "   Revenue  \n",
       "0      950  \n",
       "1      950  \n",
       "2     2401  \n",
       "3     2088  \n",
       "4      418  "
      ]
     },
     "execution_count": 6,
     "metadata": {},
     "output_type": "execute_result"
    }
   ],
   "source": [
    "sales.head()"
   ]
  },
  {
   "cell_type": "markdown",
   "id": "d33b381f",
   "metadata": {
    "papermill": {
     "duration": 0.013902,
     "end_time": "2023-02-11T13:15:01.541809",
     "exception": false,
     "start_time": "2023-02-11T13:15:01.527907",
     "status": "completed"
    },
    "tags": []
   },
   "source": [
    "**pandas.DataFrame.head(n = 5)** -- This function returns the first n rows for the object based on position. It is useful for quickly testing if your object has the right type of data in it.\n",
    "\n",
    "For negative values of n, this function returns all rows except the last |n| rows, equivalent to df[:n]"
   ]
  },
  {
   "cell_type": "code",
   "execution_count": 7,
   "id": "18d81851",
   "metadata": {
    "execution": {
     "iopub.execute_input": "2023-02-11T13:15:01.572318Z",
     "iopub.status.busy": "2023-02-11T13:15:01.571709Z",
     "iopub.status.idle": "2023-02-11T13:15:01.631421Z",
     "shell.execute_reply": "2023-02-11T13:15:01.630142Z"
    },
    "papermill": {
     "duration": 0.077463,
     "end_time": "2023-02-11T13:15:01.633476",
     "exception": false,
     "start_time": "2023-02-11T13:15:01.556013",
     "status": "completed"
    },
    "tags": []
   },
   "outputs": [
    {
     "data": {
      "text/html": [
       "<div>\n",
       "<style scoped>\n",
       "    .dataframe tbody tr th:only-of-type {\n",
       "        vertical-align: middle;\n",
       "    }\n",
       "\n",
       "    .dataframe tbody tr th {\n",
       "        vertical-align: top;\n",
       "    }\n",
       "\n",
       "    .dataframe thead th {\n",
       "        text-align: right;\n",
       "    }\n",
       "</style>\n",
       "<table border=\"1\" class=\"dataframe\">\n",
       "  <thead>\n",
       "    <tr style=\"text-align: right;\">\n",
       "      <th></th>\n",
       "      <th>Day</th>\n",
       "      <th>Year</th>\n",
       "      <th>Customer_Age</th>\n",
       "      <th>Order_Quantity</th>\n",
       "      <th>Unit_Cost</th>\n",
       "      <th>Unit_Price</th>\n",
       "      <th>Profit</th>\n",
       "      <th>Cost</th>\n",
       "      <th>Revenue</th>\n",
       "    </tr>\n",
       "  </thead>\n",
       "  <tbody>\n",
       "    <tr>\n",
       "      <th>count</th>\n",
       "      <td>113036.000000</td>\n",
       "      <td>113036.000000</td>\n",
       "      <td>113036.000000</td>\n",
       "      <td>113036.000000</td>\n",
       "      <td>113036.000000</td>\n",
       "      <td>113036.000000</td>\n",
       "      <td>113036.000000</td>\n",
       "      <td>113036.000000</td>\n",
       "      <td>113036.000000</td>\n",
       "    </tr>\n",
       "    <tr>\n",
       "      <th>mean</th>\n",
       "      <td>15.665753</td>\n",
       "      <td>2014.401739</td>\n",
       "      <td>35.919212</td>\n",
       "      <td>11.901660</td>\n",
       "      <td>267.296366</td>\n",
       "      <td>452.938427</td>\n",
       "      <td>285.051665</td>\n",
       "      <td>469.318695</td>\n",
       "      <td>754.370360</td>\n",
       "    </tr>\n",
       "    <tr>\n",
       "      <th>std</th>\n",
       "      <td>8.781567</td>\n",
       "      <td>1.272510</td>\n",
       "      <td>11.021936</td>\n",
       "      <td>9.561857</td>\n",
       "      <td>549.835483</td>\n",
       "      <td>922.071219</td>\n",
       "      <td>453.887443</td>\n",
       "      <td>884.866118</td>\n",
       "      <td>1309.094674</td>\n",
       "    </tr>\n",
       "    <tr>\n",
       "      <th>min</th>\n",
       "      <td>1.000000</td>\n",
       "      <td>2011.000000</td>\n",
       "      <td>17.000000</td>\n",
       "      <td>1.000000</td>\n",
       "      <td>1.000000</td>\n",
       "      <td>2.000000</td>\n",
       "      <td>-30.000000</td>\n",
       "      <td>1.000000</td>\n",
       "      <td>2.000000</td>\n",
       "    </tr>\n",
       "    <tr>\n",
       "      <th>25%</th>\n",
       "      <td>8.000000</td>\n",
       "      <td>2013.000000</td>\n",
       "      <td>28.000000</td>\n",
       "      <td>2.000000</td>\n",
       "      <td>2.000000</td>\n",
       "      <td>5.000000</td>\n",
       "      <td>29.000000</td>\n",
       "      <td>28.000000</td>\n",
       "      <td>63.000000</td>\n",
       "    </tr>\n",
       "    <tr>\n",
       "      <th>50%</th>\n",
       "      <td>16.000000</td>\n",
       "      <td>2014.000000</td>\n",
       "      <td>35.000000</td>\n",
       "      <td>10.000000</td>\n",
       "      <td>9.000000</td>\n",
       "      <td>24.000000</td>\n",
       "      <td>101.000000</td>\n",
       "      <td>108.000000</td>\n",
       "      <td>223.000000</td>\n",
       "    </tr>\n",
       "    <tr>\n",
       "      <th>75%</th>\n",
       "      <td>23.000000</td>\n",
       "      <td>2016.000000</td>\n",
       "      <td>43.000000</td>\n",
       "      <td>20.000000</td>\n",
       "      <td>42.000000</td>\n",
       "      <td>70.000000</td>\n",
       "      <td>358.000000</td>\n",
       "      <td>432.000000</td>\n",
       "      <td>800.000000</td>\n",
       "    </tr>\n",
       "    <tr>\n",
       "      <th>max</th>\n",
       "      <td>31.000000</td>\n",
       "      <td>2016.000000</td>\n",
       "      <td>87.000000</td>\n",
       "      <td>32.000000</td>\n",
       "      <td>2171.000000</td>\n",
       "      <td>3578.000000</td>\n",
       "      <td>15096.000000</td>\n",
       "      <td>42978.000000</td>\n",
       "      <td>58074.000000</td>\n",
       "    </tr>\n",
       "  </tbody>\n",
       "</table>\n",
       "</div>"
      ],
      "text/plain": [
       "                 Day           Year   Customer_Age  Order_Quantity  \\\n",
       "count  113036.000000  113036.000000  113036.000000   113036.000000   \n",
       "mean       15.665753    2014.401739      35.919212       11.901660   \n",
       "std         8.781567       1.272510      11.021936        9.561857   \n",
       "min         1.000000    2011.000000      17.000000        1.000000   \n",
       "25%         8.000000    2013.000000      28.000000        2.000000   \n",
       "50%        16.000000    2014.000000      35.000000       10.000000   \n",
       "75%        23.000000    2016.000000      43.000000       20.000000   \n",
       "max        31.000000    2016.000000      87.000000       32.000000   \n",
       "\n",
       "           Unit_Cost     Unit_Price         Profit           Cost  \\\n",
       "count  113036.000000  113036.000000  113036.000000  113036.000000   \n",
       "mean      267.296366     452.938427     285.051665     469.318695   \n",
       "std       549.835483     922.071219     453.887443     884.866118   \n",
       "min         1.000000       2.000000     -30.000000       1.000000   \n",
       "25%         2.000000       5.000000      29.000000      28.000000   \n",
       "50%         9.000000      24.000000     101.000000     108.000000   \n",
       "75%        42.000000      70.000000     358.000000     432.000000   \n",
       "max      2171.000000    3578.000000   15096.000000   42978.000000   \n",
       "\n",
       "             Revenue  \n",
       "count  113036.000000  \n",
       "mean      754.370360  \n",
       "std      1309.094674  \n",
       "min         2.000000  \n",
       "25%        63.000000  \n",
       "50%       223.000000  \n",
       "75%       800.000000  \n",
       "max     58074.000000  "
      ]
     },
     "execution_count": 7,
     "metadata": {},
     "output_type": "execute_result"
    }
   ],
   "source": [
    "sales.describe()"
   ]
  },
  {
   "cell_type": "markdown",
   "id": "3cf30aa5",
   "metadata": {
    "papermill": {
     "duration": 0.014203,
     "end_time": "2023-02-11T13:15:01.662408",
     "exception": false,
     "start_time": "2023-02-11T13:15:01.648205",
     "status": "completed"
    },
    "tags": []
   },
   "source": [
    "Notice that non-numeric columns are dropped from the statistical summary provided by df.describe().\n",
    "\n",
    "We can get a summary of the categorical variables by passing only those columns to describe():"
   ]
  },
  {
   "cell_type": "code",
   "execution_count": 8,
   "id": "3517b908",
   "metadata": {
    "execution": {
     "iopub.execute_input": "2023-02-11T13:15:01.693235Z",
     "iopub.status.busy": "2023-02-11T13:15:01.692859Z",
     "iopub.status.idle": "2023-02-11T13:15:01.699873Z",
     "shell.execute_reply": "2023-02-11T13:15:01.698474Z"
    },
    "papermill": {
     "duration": 0.024864,
     "end_time": "2023-02-11T13:15:01.701882",
     "exception": false,
     "start_time": "2023-02-11T13:15:01.677018",
     "status": "completed"
    },
    "tags": []
   },
   "outputs": [
    {
     "name": "stdout",
     "output_type": "stream",
     "text": [
      "Month               object\n",
      "Age_Group           object\n",
      "Customer_Gender     object\n",
      "Country             object\n",
      "State               object\n",
      "Product_Category    object\n",
      "Sub_Category        object\n",
      "Product             object\n",
      "dtype: object\n"
     ]
    }
   ],
   "source": [
    "categorical = sales.dtypes[sales.dtypes == 'object']\n",
    "print(categorical)"
   ]
  },
  {
   "cell_type": "code",
   "execution_count": 9,
   "id": "d8d9efb6",
   "metadata": {
    "execution": {
     "iopub.execute_input": "2023-02-11T13:15:01.732838Z",
     "iopub.status.busy": "2023-02-11T13:15:01.732458Z",
     "iopub.status.idle": "2023-02-11T13:15:01.840305Z",
     "shell.execute_reply": "2023-02-11T13:15:01.838574Z"
    },
    "papermill": {
     "duration": 0.125706,
     "end_time": "2023-02-11T13:15:01.842474",
     "exception": false,
     "start_time": "2023-02-11T13:15:01.716768",
     "status": "completed"
    },
    "tags": []
   },
   "outputs": [
    {
     "name": "stdout",
     "output_type": "stream",
     "text": [
      "Index(['Month', 'Age_Group', 'Customer_Gender', 'Country', 'State',\n",
      "       'Product_Category', 'Sub_Category', 'Product'],\n",
      "      dtype='object')\n"
     ]
    },
    {
     "data": {
      "text/html": [
       "<div>\n",
       "<style scoped>\n",
       "    .dataframe tbody tr th:only-of-type {\n",
       "        vertical-align: middle;\n",
       "    }\n",
       "\n",
       "    .dataframe tbody tr th {\n",
       "        vertical-align: top;\n",
       "    }\n",
       "\n",
       "    .dataframe thead th {\n",
       "        text-align: right;\n",
       "    }\n",
       "</style>\n",
       "<table border=\"1\" class=\"dataframe\">\n",
       "  <thead>\n",
       "    <tr style=\"text-align: right;\">\n",
       "      <th></th>\n",
       "      <th>Month</th>\n",
       "      <th>Age_Group</th>\n",
       "      <th>Customer_Gender</th>\n",
       "      <th>Country</th>\n",
       "      <th>State</th>\n",
       "      <th>Product_Category</th>\n",
       "      <th>Sub_Category</th>\n",
       "      <th>Product</th>\n",
       "    </tr>\n",
       "  </thead>\n",
       "  <tbody>\n",
       "    <tr>\n",
       "      <th>count</th>\n",
       "      <td>113036</td>\n",
       "      <td>113036</td>\n",
       "      <td>113036</td>\n",
       "      <td>113036</td>\n",
       "      <td>113036</td>\n",
       "      <td>113036</td>\n",
       "      <td>113036</td>\n",
       "      <td>113036</td>\n",
       "    </tr>\n",
       "    <tr>\n",
       "      <th>unique</th>\n",
       "      <td>12</td>\n",
       "      <td>4</td>\n",
       "      <td>2</td>\n",
       "      <td>6</td>\n",
       "      <td>53</td>\n",
       "      <td>3</td>\n",
       "      <td>17</td>\n",
       "      <td>130</td>\n",
       "    </tr>\n",
       "    <tr>\n",
       "      <th>top</th>\n",
       "      <td>June</td>\n",
       "      <td>Adults (35-64)</td>\n",
       "      <td>M</td>\n",
       "      <td>United States</td>\n",
       "      <td>California</td>\n",
       "      <td>Accessories</td>\n",
       "      <td>Tires and Tubes</td>\n",
       "      <td>Water Bottle - 30 oz.</td>\n",
       "    </tr>\n",
       "    <tr>\n",
       "      <th>freq</th>\n",
       "      <td>11234</td>\n",
       "      <td>55824</td>\n",
       "      <td>58312</td>\n",
       "      <td>39206</td>\n",
       "      <td>22450</td>\n",
       "      <td>70120</td>\n",
       "      <td>33870</td>\n",
       "      <td>10794</td>\n",
       "    </tr>\n",
       "  </tbody>\n",
       "</table>\n",
       "</div>"
      ],
      "text/plain": [
       "         Month       Age_Group Customer_Gender        Country       State  \\\n",
       "count   113036          113036          113036         113036      113036   \n",
       "unique      12               4               2              6          53   \n",
       "top       June  Adults (35-64)               M  United States  California   \n",
       "freq     11234           55824           58312          39206       22450   \n",
       "\n",
       "       Product_Category     Sub_Category                Product  \n",
       "count            113036           113036                 113036  \n",
       "unique                3               17                    130  \n",
       "top         Accessories  Tires and Tubes  Water Bottle - 30 oz.  \n",
       "freq              70120            33870                  10794  "
      ]
     },
     "execution_count": 9,
     "metadata": {},
     "output_type": "execute_result"
    }
   ],
   "source": [
    "categorical = sales.dtypes[sales.dtypes == \"object\"].index\n",
    "print(categorical)\n",
    "      \n",
    "sales[categorical].describe()"
   ]
  },
  {
   "cell_type": "markdown",
   "id": "b4caa0cd",
   "metadata": {
    "papermill": {
     "duration": 0.014976,
     "end_time": "2023-02-11T13:15:01.873375",
     "exception": false,
     "start_time": "2023-02-11T13:15:01.858399",
     "status": "completed"
    },
    "tags": []
   },
   "source": [
    "This code snippet is checking for columns with data type \"object\" in a Pandas DataFrame called \"sales\". The .dtypes property returns a series containing data types of each column in the DataFrame. The comparison sales.dtypes == \"object\" returns a boolean array indicating whether each data type in the series is \"object\". The .index property returns the index (column labels) of the resulting boolean array. Finally, the categorical variable is assigned the index of the columns with data type \"object\"."
   ]
  },
  {
   "cell_type": "markdown",
   "id": "474a0da7",
   "metadata": {
    "papermill": {
     "duration": 0.015331,
     "end_time": "2023-02-11T13:15:01.904255",
     "exception": false,
     "start_time": "2023-02-11T13:15:01.888924",
     "status": "completed"
    },
    "tags": []
   },
   "source": [
    "The categorical variable summary shows the count of non-NaN records, the number of unique categories, the most frequently occurring value and the number of occurrences of the most frequent value."
   ]
  },
  {
   "cell_type": "markdown",
   "id": "d77be403",
   "metadata": {
    "papermill": {
     "duration": 0.014781,
     "end_time": "2023-02-11T13:15:01.934419",
     "exception": false,
     "start_time": "2023-02-11T13:15:01.919638",
     "status": "completed"
    },
    "tags": []
   },
   "source": [
    "After looking at the data for the first time, you should ask yourself a few questions:\n",
    "\n",
    "1. Do I need all of the variables?\n",
    "2. Should I transform any variables?\n",
    "3. Are there NA values, outliers or other strange values?\n",
    "4. Should I create new variables?"
   ]
  },
  {
   "cell_type": "markdown",
   "id": "1d1670db",
   "metadata": {
    "papermill": {
     "duration": 0.014784,
     "end_time": "2023-02-11T13:15:01.964306",
     "exception": false,
     "start_time": "2023-02-11T13:15:01.949522",
     "status": "completed"
    },
    "tags": []
   },
   "source": [
    "# Customer Age "
   ]
  },
  {
   "cell_type": "code",
   "execution_count": 10,
   "id": "57c39a2e",
   "metadata": {
    "execution": {
     "iopub.execute_input": "2023-02-11T13:15:01.997236Z",
     "iopub.status.busy": "2023-02-11T13:15:01.996840Z",
     "iopub.status.idle": "2023-02-11T13:15:02.005937Z",
     "shell.execute_reply": "2023-02-11T13:15:02.004755Z"
    },
    "papermill": {
     "duration": 0.027391,
     "end_time": "2023-02-11T13:15:02.007772",
     "exception": false,
     "start_time": "2023-02-11T13:15:01.980381",
     "status": "completed"
    },
    "tags": []
   },
   "outputs": [
    {
     "data": {
      "text/plain": [
       "35.91921157861212"
      ]
     },
     "execution_count": 10,
     "metadata": {},
     "output_type": "execute_result"
    }
   ],
   "source": [
    "sales['Customer_Age'].mean()"
   ]
  },
  {
   "cell_type": "code",
   "execution_count": 11,
   "id": "d370705e",
   "metadata": {
    "execution": {
     "iopub.execute_input": "2023-02-11T13:15:02.040715Z",
     "iopub.status.busy": "2023-02-11T13:15:02.040292Z",
     "iopub.status.idle": "2023-02-11T13:15:05.151206Z",
     "shell.execute_reply": "2023-02-11T13:15:05.149947Z"
    },
    "papermill": {
     "duration": 3.130473,
     "end_time": "2023-02-11T13:15:05.153367",
     "exception": false,
     "start_time": "2023-02-11T13:15:02.022894",
     "status": "completed"
    },
    "tags": []
   },
   "outputs": [
    {
     "data": {
      "text/plain": [
       "<AxesSubplot:ylabel='Density'>"
      ]
     },
     "execution_count": 11,
     "metadata": {},
     "output_type": "execute_result"
    },
    {
     "data": {
      "image/png": "[encoded data removed]",
      "text/plain": [
       "<Figure size 1008x432 with 1 Axes>"
      ]
     },
     "metadata": {
      "needs_background": "light"
     },
     "output_type": "display_data"
    }
   ],
   "source": [
    "sales['Customer_Age'].plot(kind = 'kde', figsize = (14, 6) )"
   ]
  },
  {
   "cell_type": "markdown",
   "id": "b96fbb9b",
   "metadata": {
    "papermill": {
     "duration": 0.0151,
     "end_time": "2023-02-11T13:15:05.184033",
     "exception": false,
     "start_time": "2023-02-11T13:15:05.168933",
     "status": "completed"
    },
    "tags": []
   },
   "source": [
    "**DataFrame.plot.kde (Kernel Distribution Estimation Plot)** -- Kdeplot depicts the probability density function of the continuous or non-parametric data variables i.e. we can plot for the univariate or multiple variables altogether."
   ]
  },
  {
   "cell_type": "code",
   "execution_count": 12,
   "id": "fe6b058d",
   "metadata": {
    "execution": {
     "iopub.execute_input": "2023-02-11T13:15:05.217033Z",
     "iopub.status.busy": "2023-02-11T13:15:05.216678Z",
     "iopub.status.idle": "2023-02-11T13:15:05.356351Z",
     "shell.execute_reply": "2023-02-11T13:15:05.355556Z"
    },
    "papermill": {
     "duration": 0.158703,
     "end_time": "2023-02-11T13:15:05.358357",
     "exception": false,
     "start_time": "2023-02-11T13:15:05.199654",
     "status": "completed"
    },
    "tags": []
   },
   "outputs": [
    {
     "data": {
      "text/plain": [
       "<AxesSubplot:>"
      ]
     },
     "execution_count": 12,
     "metadata": {},
     "output_type": "execute_result"
    },
    {
     "data": {
      "image/png": "[encoded data removed]",
      "text/plain": [
       "<Figure size 1008x432 with 1 Axes>"
      ]
     },
     "metadata": {
      "needs_background": "light"
     },
     "output_type": "display_data"
    }
   ],
   "source": [
    "sales['Customer_Age'].plot(kind='box', vert=False, figsize=(14,6))"
   ]
  },
  {
   "cell_type": "markdown",
   "id": "192b9e52",
   "metadata": {
    "papermill": {
     "duration": 0.015525,
     "end_time": "2023-02-11T13:15:05.393283",
     "exception": false,
     "start_time": "2023-02-11T13:15:05.377758",
     "status": "completed"
    },
    "tags": []
   },
   "source": [
    "A **boxplot** is a standardized way of displaying the distribution of data based on a five number summary (“minimum”, first quartile [Q1], median, third quartile [Q3] and “maximum”).\n",
    "![Different parts of boxplot](https://www.linkpicture.com/q/resim_2023-02-07_162314778.png)\n",
    "\n",
    "Boxplots can tell you about your outliers and what their values are. It can also tell you if your data is symmetrical, how tightly your data is grouped and if and how your data is skewed."
   ]
  },
  {
   "cell_type": "markdown",
   "id": "8706a243",
   "metadata": {
    "papermill": {
     "duration": 0.015905,
     "end_time": "2023-02-11T13:15:05.425375",
     "exception": false,
     "start_time": "2023-02-11T13:15:05.409470",
     "status": "completed"
    },
    "tags": []
   },
   "source": [
    "# Order Quantity"
   ]
  },
  {
   "cell_type": "code",
   "execution_count": 13,
   "id": "f577948b",
   "metadata": {
    "execution": {
     "iopub.execute_input": "2023-02-11T13:15:05.459600Z",
     "iopub.status.busy": "2023-02-11T13:15:05.458998Z",
     "iopub.status.idle": "2023-02-11T13:15:05.464550Z",
     "shell.execute_reply": "2023-02-11T13:15:05.463914Z"
    },
    "papermill": {
     "duration": 0.024507,
     "end_time": "2023-02-11T13:15:05.466116",
     "exception": false,
     "start_time": "2023-02-11T13:15:05.441609",
     "status": "completed"
    },
    "tags": []
   },
   "outputs": [
    {
     "data": {
      "text/plain": [
       "11.901659648253654"
      ]
     },
     "execution_count": 13,
     "metadata": {},
     "output_type": "execute_result"
    }
   ],
   "source": [
    "sales['Order_Quantity'].mean()"
   ]
  },
  {
   "cell_type": "code",
   "execution_count": 14,
   "id": "2484a72f",
   "metadata": {
    "execution": {
     "iopub.execute_input": "2023-02-11T13:15:05.499622Z",
     "iopub.status.busy": "2023-02-11T13:15:05.499019Z",
     "iopub.status.idle": "2023-02-11T13:15:05.505321Z",
     "shell.execute_reply": "2023-02-11T13:15:05.504174Z"
    },
    "papermill": {
     "duration": 0.025888,
     "end_time": "2023-02-11T13:15:05.507666",
     "exception": false,
     "start_time": "2023-02-11T13:15:05.481778",
     "status": "completed"
    },
    "tags": []
   },
   "outputs": [
    {
     "data": {
      "text/plain": [
       "1"
      ]
     },
     "execution_count": 14,
     "metadata": {},
     "output_type": "execute_result"
    }
   ],
   "source": [
    "sales['Order_Quantity'].min()"
   ]
  },
  {
   "cell_type": "code",
   "execution_count": 15,
   "id": "9ab25c81",
   "metadata": {
    "execution": {
     "iopub.execute_input": "2023-02-11T13:15:05.543150Z",
     "iopub.status.busy": "2023-02-11T13:15:05.542506Z",
     "iopub.status.idle": "2023-02-11T13:15:05.548061Z",
     "shell.execute_reply": "2023-02-11T13:15:05.547423Z"
    },
    "papermill": {
     "duration": 0.025145,
     "end_time": "2023-02-11T13:15:05.549767",
     "exception": false,
     "start_time": "2023-02-11T13:15:05.524622",
     "status": "completed"
    },
    "tags": []
   },
   "outputs": [
    {
     "data": {
      "text/plain": [
       "32"
      ]
     },
     "execution_count": 15,
     "metadata": {},
     "output_type": "execute_result"
    }
   ],
   "source": [
    "sales['Order_Quantity'].max()"
   ]
  },
  {
   "cell_type": "code",
   "execution_count": 16,
   "id": "724e8db3",
   "metadata": {
    "execution": {
     "iopub.execute_input": "2023-02-11T13:15:05.584364Z",
     "iopub.status.busy": "2023-02-11T13:15:05.583969Z",
     "iopub.status.idle": "2023-02-11T13:15:05.709811Z",
     "shell.execute_reply": "2023-02-11T13:15:05.708875Z"
    },
    "papermill": {
     "duration": 0.147807,
     "end_time": "2023-02-11T13:15:05.713785",
     "exception": false,
     "start_time": "2023-02-11T13:15:05.565978",
     "status": "completed"
    },
    "tags": []
   },
   "outputs": [
    {
     "data": {
      "text/plain": [
       "<AxesSubplot:>"
      ]
     },
     "execution_count": 16,
     "metadata": {},
     "output_type": "execute_result"
    },
    {
     "data": {
      "image/png": "[encoded data removed]",
      "text/plain": [
       "<Figure size 1008x432 with 1 Axes>"
      ]
     },
     "metadata": {
      "needs_background": "light"
     },
     "output_type": "display_data"
    }
   ],
   "source": [
    "sales['Order_Quantity'].plot(kind = 'box', vert = False, figsize = (14, 6))"
   ]
  },
  {
   "cell_type": "code",
   "execution_count": 17,
   "id": "b9543cb6",
   "metadata": {
    "execution": {
     "iopub.execute_input": "2023-02-11T13:15:05.760878Z",
     "iopub.status.busy": "2023-02-11T13:15:05.759165Z",
     "iopub.status.idle": "2023-02-11T13:15:05.970639Z",
     "shell.execute_reply": "2023-02-11T13:15:05.969677Z"
    },
    "papermill": {
     "duration": 0.237129,
     "end_time": "2023-02-11T13:15:05.972796",
     "exception": false,
     "start_time": "2023-02-11T13:15:05.735667",
     "status": "completed"
    },
    "tags": []
   },
   "outputs": [
    {
     "data": {
      "text/plain": [
       "<AxesSubplot:ylabel='Frequency'>"
      ]
     },
     "execution_count": 17,
     "metadata": {},
     "output_type": "execute_result"
    },
    {
     "data": {
      "image/png": "[encoded data removed]",
      "text/plain": [
       "<Figure size 1008x432 with 1 Axes>"
      ]
     },
     "metadata": {
      "needs_background": "light"
     },
     "output_type": "display_data"
    }
   ],
   "source": [
    "sales['Order_Quantity'].plot(kind = 'hist', bins = 30, figsize = (14, 6))"
   ]
  },
  {
   "cell_type": "markdown",
   "id": "f73bf51f",
   "metadata": {
    "papermill": {
     "duration": 0.016879,
     "end_time": "2023-02-11T13:15:06.006683",
     "exception": false,
     "start_time": "2023-02-11T13:15:05.989804",
     "status": "completed"
    },
    "tags": []
   },
   "source": [
    "**pandas.DataFrame.hist** -- A histogram is a representation of the distribution of data. This function calls **matplotlib.pyplot.hist()**, on each series in the DataFrame, resulting in one histogram per column."
   ]
  },
  {
   "cell_type": "markdown",
   "id": "d7341ae0",
   "metadata": {
    "papermill": {
     "duration": 0.016042,
     "end_time": "2023-02-11T13:15:06.039235",
     "exception": false,
     "start_time": "2023-02-11T13:15:06.023193",
     "status": "completed"
    },
    "tags": []
   },
   "source": [
    "# Unit_Cost"
   ]
  },
  {
   "cell_type": "code",
   "execution_count": 18,
   "id": "3a61ab9b",
   "metadata": {
    "execution": {
     "iopub.execute_input": "2023-02-11T13:15:06.073670Z",
     "iopub.status.busy": "2023-02-11T13:15:06.073112Z",
     "iopub.status.idle": "2023-02-11T13:15:06.083393Z",
     "shell.execute_reply": "2023-02-11T13:15:06.082237Z"
    },
    "papermill": {
     "duration": 0.029786,
     "end_time": "2023-02-11T13:15:06.085122",
     "exception": false,
     "start_time": "2023-02-11T13:15:06.055336",
     "status": "completed"
    },
    "tags": []
   },
   "outputs": [
    {
     "data": {
      "text/plain": [
       "count    113036.000000\n",
       "mean        267.296366\n",
       "std         549.835483\n",
       "min           1.000000\n",
       "25%           2.000000\n",
       "50%           9.000000\n",
       "75%          42.000000\n",
       "max        2171.000000\n",
       "Name: Unit_Cost, dtype: float64"
      ]
     },
     "execution_count": 18,
     "metadata": {},
     "output_type": "execute_result"
    }
   ],
   "source": [
    "sales['Unit_Cost'].describe()"
   ]
  },
  {
   "cell_type": "code",
   "execution_count": 19,
   "id": "cdf0b1d0",
   "metadata": {
    "execution": {
     "iopub.execute_input": "2023-02-11T13:15:06.120064Z",
     "iopub.status.busy": "2023-02-11T13:15:06.119532Z",
     "iopub.status.idle": "2023-02-11T13:15:06.125306Z",
     "shell.execute_reply": "2023-02-11T13:15:06.124111Z"
    },
    "papermill": {
     "duration": 0.02545,
     "end_time": "2023-02-11T13:15:06.127123",
     "exception": false,
     "start_time": "2023-02-11T13:15:06.101673",
     "status": "completed"
    },
    "tags": []
   },
   "outputs": [
    {
     "data": {
      "text/plain": [
       "267.296365759581"
      ]
     },
     "execution_count": 19,
     "metadata": {},
     "output_type": "execute_result"
    }
   ],
   "source": [
    "sales['Unit_Cost'].mean()"
   ]
  },
  {
   "cell_type": "code",
   "execution_count": 20,
   "id": "abaeb6f0",
   "metadata": {
    "execution": {
     "iopub.execute_input": "2023-02-11T13:15:06.163980Z",
     "iopub.status.busy": "2023-02-11T13:15:06.163364Z",
     "iopub.status.idle": "2023-02-11T13:15:06.170916Z",
     "shell.execute_reply": "2023-02-11T13:15:06.169498Z"
    },
    "papermill": {
     "duration": 0.029707,
     "end_time": "2023-02-11T13:15:06.173767",
     "exception": false,
     "start_time": "2023-02-11T13:15:06.144060",
     "status": "completed"
    },
    "tags": []
   },
   "outputs": [
    {
     "data": {
      "text/plain": [
       "9.0"
      ]
     },
     "execution_count": 20,
     "metadata": {},
     "output_type": "execute_result"
    }
   ],
   "source": [
    "sales['Unit_Cost'].median()"
   ]
  },
  {
   "cell_type": "code",
   "execution_count": 21,
   "id": "9a7b9452",
   "metadata": {
    "execution": {
     "iopub.execute_input": "2023-02-11T13:15:06.210710Z",
     "iopub.status.busy": "2023-02-11T13:15:06.209799Z",
     "iopub.status.idle": "2023-02-11T13:15:06.348431Z",
     "shell.execute_reply": "2023-02-11T13:15:06.347651Z"
    },
    "papermill": {
     "duration": 0.159293,
     "end_time": "2023-02-11T13:15:06.350319",
     "exception": false,
     "start_time": "2023-02-11T13:15:06.191026",
     "status": "completed"
    },
    "tags": []
   },
   "outputs": [
    {
     "data": {
      "text/plain": [
       "<AxesSubplot:>"
      ]
     },
     "execution_count": 21,
     "metadata": {},
     "output_type": "execute_result"
    },
    {
     "data": {
      "image/png": "[encoded data removed]",
      "text/plain": [
       "<Figure size 1008x432 with 1 Axes>"
      ]
     },
     "metadata": {
      "needs_background": "light"
     },
     "output_type": "display_data"
    }
   ],
   "source": [
    "sales['Unit_Cost'].plot(kind = 'box', vert = False,  figsize = (14, 6))"
   ]
  },
  {
   "cell_type": "code",
   "execution_count": 22,
   "id": "75c773f4",
   "metadata": {
    "execution": {
     "iopub.execute_input": "2023-02-11T13:15:06.388593Z",
     "iopub.status.busy": "2023-02-11T13:15:06.388012Z",
     "iopub.status.idle": "2023-02-11T13:15:08.293362Z",
     "shell.execute_reply": "2023-02-11T13:15:08.292639Z"
    },
    "papermill": {
     "duration": 1.925417,
     "end_time": "2023-02-11T13:15:08.295521",
     "exception": false,
     "start_time": "2023-02-11T13:15:06.370104",
     "status": "completed"
    },
    "tags": []
   },
   "outputs": [
    {
     "data": {
      "text/plain": [
       "<matplotlib.lines.Line2D at 0x7f08858d9750>"
      ]
     },
     "execution_count": 22,
     "metadata": {},
     "output_type": "execute_result"
    },
    {
     "data": {
      "image/png": "[encoded data removed]",
      "text/plain": [
       "<Figure size 1008x432 with 1 Axes>"
      ]
     },
     "metadata": {
      "needs_background": "light"
     },
     "output_type": "display_data"
    }
   ],
   "source": [
    "ax = sales['Unit_Cost'].plot(kind = 'density', figsize = (14, 6))\n",
    "ax.axvline(sales['Unit_Cost'].mean(), color = 'red')\n",
    "ax.axvline(sales['Unit_Cost'].median(), color = 'blue')"
   ]
  },
  {
   "cell_type": "code",
   "execution_count": 23,
   "id": "c703c44b",
   "metadata": {
    "execution": {
     "iopub.execute_input": "2023-02-11T13:15:08.336537Z",
     "iopub.status.busy": "2023-02-11T13:15:08.336118Z",
     "iopub.status.idle": "2023-02-11T13:15:08.502500Z",
     "shell.execute_reply": "2023-02-11T13:15:08.501438Z"
    },
    "papermill": {
     "duration": 0.187777,
     "end_time": "2023-02-11T13:15:08.504814",
     "exception": false,
     "start_time": "2023-02-11T13:15:08.317037",
     "status": "completed"
    },
    "tags": []
   },
   "outputs": [
    {
     "data": {
      "text/plain": [
       "Text(0, 0.5, 'Number of Sales')"
      ]
     },
     "execution_count": 23,
     "metadata": {},
     "output_type": "execute_result"
    },
    {
     "data": {
      "image/png": "[encoded data removed]",
      "text/plain": [
       "<Figure size 1008x432 with 1 Axes>"
      ]
     },
     "metadata": {
      "needs_background": "light"
     },
     "output_type": "display_data"
    }
   ],
   "source": [
    "ax = sales['Unit_Cost'].plot(kind = 'hist', figsize = (14, 6))\n",
    "ax.axvline(sales['Unit_Cost'].mean(), color = 'red')\n",
    "ax.axvline(sales['Unit_Cost'].median(), color = 'blue')\n",
    "ax.set_xlabel('Dollars')\n",
    "ax.set_ylabel('Number of Sales')"
   ]
  },
  {
   "cell_type": "markdown",
   "id": "874f555d",
   "metadata": {
    "papermill": {
     "duration": 0.018207,
     "end_time": "2023-02-11T13:15:08.541005",
     "exception": false,
     "start_time": "2023-02-11T13:15:08.522798",
     "status": "completed"
    },
    "tags": []
   },
   "source": [
    "## Categorical Analysis and Visualization"
   ]
  },
  {
   "cell_type": "markdown",
   "id": "f90e59e0",
   "metadata": {
    "papermill": {
     "duration": 0.017654,
     "end_time": "2023-02-11T13:15:08.576894",
     "exception": false,
     "start_time": "2023-02-11T13:15:08.559240",
     "status": "completed"
    },
    "tags": []
   },
   "source": [
    "### Realitionship Between Columns"
   ]
  },
  {
   "cell_type": "code",
   "execution_count": 24,
   "id": "b71ea016",
   "metadata": {
    "execution": {
     "iopub.execute_input": "2023-02-11T13:15:08.614658Z",
     "iopub.status.busy": "2023-02-11T13:15:08.614063Z",
     "iopub.status.idle": "2023-02-11T13:15:08.654868Z",
     "shell.execute_reply": "2023-02-11T13:15:08.653438Z"
    },
    "papermill": {
     "duration": 0.062263,
     "end_time": "2023-02-11T13:15:08.657037",
     "exception": false,
     "start_time": "2023-02-11T13:15:08.594774",
     "status": "completed"
    },
    "tags": []
   },
   "outputs": [
    {
     "data": {
      "text/html": [
       "<div>\n",
       "<style scoped>\n",
       "    .dataframe tbody tr th:only-of-type {\n",
       "        vertical-align: middle;\n",
       "    }\n",
       "\n",
       "    .dataframe tbody tr th {\n",
       "        vertical-align: top;\n",
       "    }\n",
       "\n",
       "    .dataframe thead th {\n",
       "        text-align: right;\n",
       "    }\n",
       "</style>\n",
       "<table border=\"1\" class=\"dataframe\">\n",
       "  <thead>\n",
       "    <tr style=\"text-align: right;\">\n",
       "      <th></th>\n",
       "      <th>Day</th>\n",
       "      <th>Year</th>\n",
       "      <th>Customer_Age</th>\n",
       "      <th>Order_Quantity</th>\n",
       "      <th>Unit_Cost</th>\n",
       "      <th>Unit_Price</th>\n",
       "      <th>Profit</th>\n",
       "      <th>Cost</th>\n",
       "      <th>Revenue</th>\n",
       "    </tr>\n",
       "  </thead>\n",
       "  <tbody>\n",
       "    <tr>\n",
       "      <th>Day</th>\n",
       "      <td>1.000000</td>\n",
       "      <td>-0.007635</td>\n",
       "      <td>-0.014296</td>\n",
       "      <td>-0.002412</td>\n",
       "      <td>0.003133</td>\n",
       "      <td>0.003207</td>\n",
       "      <td>0.004623</td>\n",
       "      <td>0.003329</td>\n",
       "      <td>0.003853</td>\n",
       "    </tr>\n",
       "    <tr>\n",
       "      <th>Year</th>\n",
       "      <td>-0.007635</td>\n",
       "      <td>1.000000</td>\n",
       "      <td>0.040994</td>\n",
       "      <td>0.123169</td>\n",
       "      <td>-0.217575</td>\n",
       "      <td>-0.213673</td>\n",
       "      <td>-0.181525</td>\n",
       "      <td>-0.215604</td>\n",
       "      <td>-0.208673</td>\n",
       "    </tr>\n",
       "    <tr>\n",
       "      <th>Customer_Age</th>\n",
       "      <td>-0.014296</td>\n",
       "      <td>0.040994</td>\n",
       "      <td>1.000000</td>\n",
       "      <td>0.026887</td>\n",
       "      <td>-0.021374</td>\n",
       "      <td>-0.020262</td>\n",
       "      <td>0.004319</td>\n",
       "      <td>-0.016013</td>\n",
       "      <td>-0.009326</td>\n",
       "    </tr>\n",
       "    <tr>\n",
       "      <th>Order_Quantity</th>\n",
       "      <td>-0.002412</td>\n",
       "      <td>0.123169</td>\n",
       "      <td>0.026887</td>\n",
       "      <td>1.000000</td>\n",
       "      <td>-0.515835</td>\n",
       "      <td>-0.515925</td>\n",
       "      <td>-0.238863</td>\n",
       "      <td>-0.340382</td>\n",
       "      <td>-0.312895</td>\n",
       "    </tr>\n",
       "    <tr>\n",
       "      <th>Unit_Cost</th>\n",
       "      <td>0.003133</td>\n",
       "      <td>-0.217575</td>\n",
       "      <td>-0.021374</td>\n",
       "      <td>-0.515835</td>\n",
       "      <td>1.000000</td>\n",
       "      <td>0.997894</td>\n",
       "      <td>0.741020</td>\n",
       "      <td>0.829869</td>\n",
       "      <td>0.817865</td>\n",
       "    </tr>\n",
       "    <tr>\n",
       "      <th>Unit_Price</th>\n",
       "      <td>0.003207</td>\n",
       "      <td>-0.213673</td>\n",
       "      <td>-0.020262</td>\n",
       "      <td>-0.515925</td>\n",
       "      <td>0.997894</td>\n",
       "      <td>1.000000</td>\n",
       "      <td>0.749870</td>\n",
       "      <td>0.826301</td>\n",
       "      <td>0.818522</td>\n",
       "    </tr>\n",
       "    <tr>\n",
       "      <th>Profit</th>\n",
       "      <td>0.004623</td>\n",
       "      <td>-0.181525</td>\n",
       "      <td>0.004319</td>\n",
       "      <td>-0.238863</td>\n",
       "      <td>0.741020</td>\n",
       "      <td>0.749870</td>\n",
       "      <td>1.000000</td>\n",
       "      <td>0.902233</td>\n",
       "      <td>0.956572</td>\n",
       "    </tr>\n",
       "    <tr>\n",
       "      <th>Cost</th>\n",
       "      <td>0.003329</td>\n",
       "      <td>-0.215604</td>\n",
       "      <td>-0.016013</td>\n",
       "      <td>-0.340382</td>\n",
       "      <td>0.829869</td>\n",
       "      <td>0.826301</td>\n",
       "      <td>0.902233</td>\n",
       "      <td>1.000000</td>\n",
       "      <td>0.988758</td>\n",
       "    </tr>\n",
       "    <tr>\n",
       "      <th>Revenue</th>\n",
       "      <td>0.003853</td>\n",
       "      <td>-0.208673</td>\n",
       "      <td>-0.009326</td>\n",
       "      <td>-0.312895</td>\n",
       "      <td>0.817865</td>\n",
       "      <td>0.818522</td>\n",
       "      <td>0.956572</td>\n",
       "      <td>0.988758</td>\n",
       "      <td>1.000000</td>\n",
       "    </tr>\n",
       "  </tbody>\n",
       "</table>\n",
       "</div>"
      ],
      "text/plain": [
       "                     Day      Year  Customer_Age  Order_Quantity  Unit_Cost  \\\n",
       "Day             1.000000 -0.007635     -0.014296       -0.002412   0.003133   \n",
       "Year           -0.007635  1.000000      0.040994        0.123169  -0.217575   \n",
       "Customer_Age   -0.014296  0.040994      1.000000        0.026887  -0.021374   \n",
       "Order_Quantity -0.002412  0.123169      0.026887        1.000000  -0.515835   \n",
       "Unit_Cost       0.003133 -0.217575     -0.021374       -0.515835   1.000000   \n",
       "Unit_Price      0.003207 -0.213673     -0.020262       -0.515925   0.997894   \n",
       "Profit          0.004623 -0.181525      0.004319       -0.238863   0.741020   \n",
       "Cost            0.003329 -0.215604     -0.016013       -0.340382   0.829869   \n",
       "Revenue         0.003853 -0.208673     -0.009326       -0.312895   0.817865   \n",
       "\n",
       "                Unit_Price    Profit      Cost   Revenue  \n",
       "Day               0.003207  0.004623  0.003329  0.003853  \n",
       "Year             -0.213673 -0.181525 -0.215604 -0.208673  \n",
       "Customer_Age     -0.020262  0.004319 -0.016013 -0.009326  \n",
       "Order_Quantity   -0.515925 -0.238863 -0.340382 -0.312895  \n",
       "Unit_Cost         0.997894  0.741020  0.829869  0.817865  \n",
       "Unit_Price        1.000000  0.749870  0.826301  0.818522  \n",
       "Profit            0.749870  1.000000  0.902233  0.956572  \n",
       "Cost              0.826301  0.902233  1.000000  0.988758  \n",
       "Revenue           0.818522  0.956572  0.988758  1.000000  "
      ]
     },
     "execution_count": 24,
     "metadata": {},
     "output_type": "execute_result"
    }
   ],
   "source": [
    "corr = sales.corr()\n",
    "corr"
   ]
  },
  {
   "cell_type": "code",
   "execution_count": 25,
   "id": "b6fa4440",
   "metadata": {
    "execution": {
     "iopub.execute_input": "2023-02-11T13:15:08.696002Z",
     "iopub.status.busy": "2023-02-11T13:15:08.695593Z",
     "iopub.status.idle": "2023-02-11T13:15:08.863836Z",
     "shell.execute_reply": "2023-02-11T13:15:08.863106Z"
    },
    "papermill": {
     "duration": 0.190278,
     "end_time": "2023-02-11T13:15:08.865703",
     "exception": false,
     "start_time": "2023-02-11T13:15:08.675425",
     "status": "completed"
    },
    "tags": []
   },
   "outputs": [
    {
     "data": {
      "image/png": "[encoded data removed]",
      "text/plain": [
       "<Figure size 576x576 with 1 Axes>"
      ]
     },
     "metadata": {
      "needs_background": "light"
     },
     "output_type": "display_data"
    }
   ],
   "source": [
    "fig = plt.figure(figsize = (8, 8))\n",
    "plt.matshow(corr, cmap = 'RdBu', fignum = fig.number)\n",
    "plt.xticks(range(len(corr.columns)), corr.columns, rotation = 'vertical');\n",
    "plt.yticks(range(len(corr.columns)), corr.columns);"
   ]
  },
  {
   "cell_type": "code",
   "execution_count": 26,
   "id": "ae73f3f5",
   "metadata": {
    "execution": {
     "iopub.execute_input": "2023-02-11T13:15:08.916208Z",
     "iopub.status.busy": "2023-02-11T13:15:08.915569Z",
     "iopub.status.idle": "2023-02-11T13:15:09.237480Z",
     "shell.execute_reply": "2023-02-11T13:15:09.236713Z"
    },
    "papermill": {
     "duration": 0.34957,
     "end_time": "2023-02-11T13:15:09.239386",
     "exception": false,
     "start_time": "2023-02-11T13:15:08.889816",
     "status": "completed"
    },
    "tags": []
   },
   "outputs": [
    {
     "data": {
      "text/plain": [
       "<AxesSubplot:xlabel='Customer_Age', ylabel='Revenue'>"
      ]
     },
     "execution_count": 26,
     "metadata": {},
     "output_type": "execute_result"
    },
    {
     "data": {
      "image/png": "[encoded data removed]",
      "text/plain": [
       "<Figure size 432x432 with 1 Axes>"
      ]
     },
     "metadata": {
      "needs_background": "light"
     },
     "output_type": "display_data"
    }
   ],
   "source": [
    "sales.plot(kind = 'scatter', x = 'Customer_Age', y = 'Revenue', figsize = (6, 6))"
   ]
  },
  {
   "cell_type": "code",
   "execution_count": 27,
   "id": "58617d26",
   "metadata": {
    "execution": {
     "iopub.execute_input": "2023-02-11T13:15:09.278404Z",
     "iopub.status.busy": "2023-02-11T13:15:09.277872Z",
     "iopub.status.idle": "2023-02-11T13:15:09.581711Z",
     "shell.execute_reply": "2023-02-11T13:15:09.579972Z"
    },
    "papermill": {
     "duration": 0.325699,
     "end_time": "2023-02-11T13:15:09.583953",
     "exception": false,
     "start_time": "2023-02-11T13:15:09.258254",
     "status": "completed"
    },
    "tags": []
   },
   "outputs": [
    {
     "data": {
      "text/plain": [
       "<AxesSubplot:xlabel='Revenue', ylabel='Profit'>"
      ]
     },
     "execution_count": 27,
     "metadata": {},
     "output_type": "execute_result"
    },
    {
     "data": {
      "image/png": "[encoded data removed]",
      "text/plain": [
       "<Figure size 432x432 with 1 Axes>"
      ]
     },
     "metadata": {
      "needs_background": "light"
     },
     "output_type": "display_data"
    }
   ],
   "source": [
    "sales.plot(kind = 'scatter', x = 'Revenue', y = 'Profit', figsize = (6, 6))"
   ]
  },
  {
   "cell_type": "code",
   "execution_count": 28,
   "id": "1aa55a69",
   "metadata": {
    "execution": {
     "iopub.execute_input": "2023-02-11T13:15:09.624703Z",
     "iopub.status.busy": "2023-02-11T13:15:09.623640Z",
     "iopub.status.idle": "2023-02-11T13:15:09.890276Z",
     "shell.execute_reply": "2023-02-11T13:15:09.889147Z"
    },
    "papermill": {
     "duration": 0.289364,
     "end_time": "2023-02-11T13:15:09.892527",
     "exception": false,
     "start_time": "2023-02-11T13:15:09.603163",
     "status": "completed"
    },
    "tags": []
   },
   "outputs": [
    {
     "data": {
      "text/plain": [
       "Text(0, 0.5, 'Profit')"
      ]
     },
     "execution_count": 28,
     "metadata": {},
     "output_type": "execute_result"
    },
    {
     "data": {
      "image/png": "[encoded data removed]",
      "text/plain": [
       "<Figure size 720x432 with 1 Axes>"
      ]
     },
     "metadata": {
      "needs_background": "light"
     },
     "output_type": "display_data"
    }
   ],
   "source": [
    "ax = sales[['Profit', 'Age_Group']].boxplot(by = 'Age_Group', figsize = (10, 6))\n",
    "ax.set_ylabel('Profit')"
   ]
  },
  {
   "cell_type": "code",
   "execution_count": 29,
   "id": "5392c80f",
   "metadata": {
    "execution": {
     "iopub.execute_input": "2023-02-11T13:15:09.933171Z",
     "iopub.status.busy": "2023-02-11T13:15:09.932775Z",
     "iopub.status.idle": "2023-02-11T13:15:10.503645Z",
     "shell.execute_reply": "2023-02-11T13:15:10.502605Z"
    },
    "papermill": {
     "duration": 0.593495,
     "end_time": "2023-02-11T13:15:10.505750",
     "exception": false,
     "start_time": "2023-02-11T13:15:09.912255",
     "status": "completed"
    },
    "tags": []
   },
   "outputs": [
    {
     "data": {
      "text/plain": [
       "Year                 AxesSubplot(0.125,0.536818;0.227941x0.343182)\n",
       "Customer_Age      AxesSubplot(0.398529,0.536818;0.227941x0.343182)\n",
       "Order_Quantity    AxesSubplot(0.672059,0.536818;0.227941x0.343182)\n",
       "Unit_Cost               AxesSubplot(0.125,0.125;0.227941x0.343182)\n",
       "Unit_Price           AxesSubplot(0.398529,0.125;0.227941x0.343182)\n",
       "Profit               AxesSubplot(0.672059,0.125;0.227941x0.343182)\n",
       "dtype: object"
      ]
     },
     "execution_count": 29,
     "metadata": {},
     "output_type": "execute_result"
    },
    {
     "data": {
      "image/png": "[encoded data removed]",
      "text/plain": [
       "<Figure size 1008x576 with 6 Axes>"
      ]
     },
     "metadata": {
      "needs_background": "light"
     },
     "output_type": "display_data"
    }
   ],
   "source": [
    "boxplot_cols = ['Year', 'Customer_Age', 'Order_Quantity', 'Unit_Cost', 'Unit_Price', 'Profit']\n",
    "sales[boxplot_cols].plot(kind = 'box', subplots = True, layout = (2, 3), figsize = (14, 8))"
   ]
  },
  {
   "cell_type": "code",
   "execution_count": 30,
   "id": "962dc081",
   "metadata": {
    "execution": {
     "iopub.execute_input": "2023-02-11T13:15:10.548437Z",
     "iopub.status.busy": "2023-02-11T13:15:10.547051Z",
     "iopub.status.idle": "2023-02-11T13:15:10.557701Z",
     "shell.execute_reply": "2023-02-11T13:15:10.556437Z"
    },
    "papermill": {
     "duration": 0.034358,
     "end_time": "2023-02-11T13:15:10.559928",
     "exception": false,
     "start_time": "2023-02-11T13:15:10.525570",
     "status": "completed"
    },
    "tags": []
   },
   "outputs": [
    {
     "data": {
      "text/plain": [
       "2014    29398\n",
       "2016    29398\n",
       "2013    24443\n",
       "2015    24443\n",
       "2012     2677\n",
       "2011     2677\n",
       "Name: Year, dtype: int64"
      ]
     },
     "execution_count": 30,
     "metadata": {},
     "output_type": "execute_result"
    }
   ],
   "source": [
    "sales['Year'].value_counts()"
   ]
  },
  {
   "cell_type": "code",
   "execution_count": 31,
   "id": "de3d9b4c",
   "metadata": {
    "execution": {
     "iopub.execute_input": "2023-02-11T13:15:10.601500Z",
     "iopub.status.busy": "2023-02-11T13:15:10.601138Z",
     "iopub.status.idle": "2023-02-11T13:15:10.698930Z",
     "shell.execute_reply": "2023-02-11T13:15:10.697730Z"
    },
    "papermill": {
     "duration": 0.122573,
     "end_time": "2023-02-11T13:15:10.702545",
     "exception": false,
     "start_time": "2023-02-11T13:15:10.579972",
     "status": "completed"
    },
    "tags": []
   },
   "outputs": [
    {
     "data": {
      "text/plain": [
       "<AxesSubplot:ylabel='Year'>"
      ]
     },
     "execution_count": 31,
     "metadata": {},
     "output_type": "execute_result"
    },
    {
     "data": {
      "image/png": "[encoded data removed]",
      "text/plain": [
       "<Figure size 432x432 with 1 Axes>"
      ]
     },
     "metadata": {},
     "output_type": "display_data"
    }
   ],
   "source": [
    "sales['Year'].value_counts().plot(kind = 'pie', figsize = (6, 6))"
   ]
  },
  {
   "cell_type": "code",
   "execution_count": 32,
   "id": "21d4deb4",
   "metadata": {
    "execution": {
     "iopub.execute_input": "2023-02-11T13:15:10.760393Z",
     "iopub.status.busy": "2023-02-11T13:15:10.758463Z",
     "iopub.status.idle": "2023-02-11T13:15:10.776800Z",
     "shell.execute_reply": "2023-02-11T13:15:10.776037Z"
    },
    "papermill": {
     "duration": 0.049138,
     "end_time": "2023-02-11T13:15:10.778809",
     "exception": false,
     "start_time": "2023-02-11T13:15:10.729671",
     "status": "completed"
    },
    "tags": []
   },
   "outputs": [
    {
     "data": {
      "text/plain": [
       "June         11234\n",
       "December     11200\n",
       "May          11128\n",
       "April        10182\n",
       "March         9674\n",
       "January       9284\n",
       "February      9022\n",
       "October       8750\n",
       "November      8734\n",
       "August        8200\n",
       "September     8166\n",
       "July          7462\n",
       "Name: Month, dtype: int64"
      ]
     },
     "execution_count": 32,
     "metadata": {},
     "output_type": "execute_result"
    }
   ],
   "source": [
    "sales['Month'].value_counts()"
   ]
  },
  {
   "cell_type": "code",
   "execution_count": 33,
   "id": "f815e65f",
   "metadata": {
    "execution": {
     "iopub.execute_input": "2023-02-11T13:15:10.825537Z",
     "iopub.status.busy": "2023-02-11T13:15:10.824612Z",
     "iopub.status.idle": "2023-02-11T13:15:10.953866Z",
     "shell.execute_reply": "2023-02-11T13:15:10.953138Z"
    },
    "papermill": {
     "duration": 0.15372,
     "end_time": "2023-02-11T13:15:10.955982",
     "exception": false,
     "start_time": "2023-02-11T13:15:10.802262",
     "status": "completed"
    },
    "tags": []
   },
   "outputs": [
    {
     "data": {
      "text/plain": [
       "<AxesSubplot:>"
      ]
     },
     "execution_count": 33,
     "metadata": {},
     "output_type": "execute_result"
    },
    {
     "data": {
      "image/png": "[encoded data removed]",
      "text/plain": [
       "<Figure size 1008x432 with 1 Axes>"
      ]
     },
     "metadata": {
      "needs_background": "light"
     },
     "output_type": "display_data"
    }
   ],
   "source": [
    "sales['Month'].value_counts().plot(kind = 'box', figsize = (14, 6))"
   ]
  },
  {
   "cell_type": "code",
   "execution_count": 34,
   "id": "233299cb",
   "metadata": {
    "execution": {
     "iopub.execute_input": "2023-02-11T13:15:11.007267Z",
     "iopub.status.busy": "2023-02-11T13:15:11.006783Z",
     "iopub.status.idle": "2023-02-11T13:15:11.022622Z",
     "shell.execute_reply": "2023-02-11T13:15:11.020956Z"
    },
    "papermill": {
     "duration": 0.041188,
     "end_time": "2023-02-11T13:15:11.024673",
     "exception": false,
     "start_time": "2023-02-11T13:15:10.983485",
     "status": "completed"
    },
    "tags": []
   },
   "outputs": [
    {
     "data": {
      "text/plain": [
       "United States    39206\n",
       "Name: Country, dtype: int64"
      ]
     },
     "execution_count": 34,
     "metadata": {},
     "output_type": "execute_result"
    }
   ],
   "source": [
    "sales['Country'].value_counts().head(1)"
   ]
  },
  {
   "cell_type": "code",
   "execution_count": 35,
   "id": "52cd14ec",
   "metadata": {
    "execution": {
     "iopub.execute_input": "2023-02-11T13:15:11.068753Z",
     "iopub.status.busy": "2023-02-11T13:15:11.068365Z",
     "iopub.status.idle": "2023-02-11T13:15:11.081219Z",
     "shell.execute_reply": "2023-02-11T13:15:11.080334Z"
    },
    "papermill": {
     "duration": 0.036711,
     "end_time": "2023-02-11T13:15:11.082893",
     "exception": false,
     "start_time": "2023-02-11T13:15:11.046182",
     "status": "completed"
    },
    "tags": []
   },
   "outputs": [
    {
     "data": {
      "text/plain": [
       "United States     39206\n",
       "Australia         23936\n",
       "Canada            14178\n",
       "United Kingdom    13620\n",
       "Germany           11098\n",
       "France            10998\n",
       "Name: Country, dtype: int64"
      ]
     },
     "execution_count": 35,
     "metadata": {},
     "output_type": "execute_result"
    }
   ],
   "source": [
    "sales['Country'].value_counts()"
   ]
  },
  {
   "cell_type": "code",
   "execution_count": 36,
   "id": "ee3a1af3",
   "metadata": {
    "execution": {
     "iopub.execute_input": "2023-02-11T13:15:11.126813Z",
     "iopub.status.busy": "2023-02-11T13:15:11.126340Z",
     "iopub.status.idle": "2023-02-11T13:15:11.437314Z",
     "shell.execute_reply": "2023-02-11T13:15:11.435503Z"
    },
    "papermill": {
     "duration": 0.3354,
     "end_time": "2023-02-11T13:15:11.439331",
     "exception": false,
     "start_time": "2023-02-11T13:15:11.103931",
     "status": "completed"
    },
    "tags": []
   },
   "outputs": [
    {
     "data": {
      "text/plain": [
       "<AxesSubplot:>"
      ]
     },
     "execution_count": 36,
     "metadata": {},
     "output_type": "execute_result"
    },
    {
     "data": {
      "image/png": "[encoded data removed]",
      "text/plain": [
       "<Figure size 1008x432 with 1 Axes>"
      ]
     },
     "metadata": {
      "needs_background": "light"
     },
     "output_type": "display_data"
    }
   ],
   "source": [
    "sales['Country'].value_counts().plot(kind='bar', figsize=(14,6))"
   ]
  },
  {
   "cell_type": "code",
   "execution_count": 37,
   "id": "07535ab2",
   "metadata": {
    "execution": {
     "iopub.execute_input": "2023-02-11T13:15:11.483901Z",
     "iopub.status.busy": "2023-02-11T13:15:11.483321Z",
     "iopub.status.idle": "2023-02-11T13:15:11.498445Z",
     "shell.execute_reply": "2023-02-11T13:15:11.497521Z"
    },
    "papermill": {
     "duration": 0.038964,
     "end_time": "2023-02-11T13:15:11.500229",
     "exception": false,
     "start_time": "2023-02-11T13:15:11.461265",
     "status": "completed"
    },
    "tags": []
   },
   "outputs": [
    {
     "data": {
      "text/plain": [
       "array(['Hitch Rack - 4-Bike', 'All-Purpose Bike Stand',\n",
       "       'Mountain Bottle Cage', 'Water Bottle - 30 oz.',\n",
       "       'Road Bottle Cage', 'AWC Logo Cap', 'Bike Wash - Dissolver',\n",
       "       'Fender Set - Mountain', 'Half-Finger Gloves, L',\n",
       "       'Half-Finger Gloves, M', 'Half-Finger Gloves, S',\n",
       "       'Sport-100 Helmet, Black', 'Sport-100 Helmet, Red',\n",
       "       'Sport-100 Helmet, Blue', 'Hydration Pack - 70 oz.',\n",
       "       'Short-Sleeve Classic Jersey, XL',\n",
       "       'Short-Sleeve Classic Jersey, L', 'Short-Sleeve Classic Jersey, M',\n",
       "       'Short-Sleeve Classic Jersey, S', 'Long-Sleeve Logo Jersey, M',\n",
       "       'Long-Sleeve Logo Jersey, XL', 'Long-Sleeve Logo Jersey, L',\n",
       "       'Long-Sleeve Logo Jersey, S', 'Mountain-100 Silver, 38',\n",
       "       'Mountain-100 Silver, 44', 'Mountain-100 Black, 48',\n",
       "       'Mountain-100 Silver, 48', 'Mountain-100 Black, 38',\n",
       "       'Mountain-200 Silver, 38', 'Mountain-100 Black, 44',\n",
       "       'Mountain-100 Silver, 42', 'Mountain-200 Black, 46',\n",
       "       'Mountain-200 Silver, 42', 'Mountain-200 Silver, 46',\n",
       "       'Mountain-200 Black, 38', 'Mountain-100 Black, 42',\n",
       "       'Mountain-200 Black, 42', 'Mountain-400-W Silver, 46',\n",
       "       'Mountain-500 Silver, 40', 'Mountain-500 Silver, 44',\n",
       "       'Mountain-500 Black, 48', 'Mountain-500 Black, 40',\n",
       "       'Mountain-400-W Silver, 42', 'Mountain-500 Silver, 52',\n",
       "       'Mountain-500 Black, 52', 'Mountain-500 Silver, 42',\n",
       "       'Mountain-500 Black, 44', 'Mountain-500 Silver, 48',\n",
       "       'Mountain-400-W Silver, 38', 'Mountain-400-W Silver, 40',\n",
       "       'Mountain-500 Black, 42', 'Road-150 Red, 48', 'Road-150 Red, 62',\n",
       "       'Road-750 Black, 48', 'Road-750 Black, 58', 'Road-750 Black, 52',\n",
       "       'Road-150 Red, 52', 'Road-150 Red, 44', 'Road-150 Red, 56',\n",
       "       'Road-750 Black, 44', 'Road-350-W Yellow, 40',\n",
       "       'Road-350-W Yellow, 42', 'Road-250 Black, 44',\n",
       "       'Road-250 Black, 48', 'Road-350-W Yellow, 48',\n",
       "       'Road-550-W Yellow, 44', 'Road-550-W Yellow, 38',\n",
       "       'Road-250 Black, 52', 'Road-550-W Yellow, 48', 'Road-250 Red, 58',\n",
       "       'Road-250 Black, 58', 'Road-250 Red, 52', 'Road-250 Red, 48',\n",
       "       'Road-250 Red, 44', 'Road-550-W Yellow, 42',\n",
       "       'Road-550-W Yellow, 40', 'Road-650 Red, 48', 'Road-650 Red, 60',\n",
       "       'Road-650 Black, 48', 'Road-350-W Yellow, 44', 'Road-650 Red, 52',\n",
       "       'Road-650 Black, 44', 'Road-650 Red, 62', 'Road-650 Red, 58',\n",
       "       'Road-650 Black, 60', 'Road-650 Black, 58', 'Road-650 Black, 52',\n",
       "       'Road-650 Black, 62', 'Road-650 Red, 44',\n",
       "       \"Women's Mountain Shorts, M\", \"Women's Mountain Shorts, S\",\n",
       "       \"Women's Mountain Shorts, L\", 'Racing Socks, L', 'Racing Socks, M',\n",
       "       'Mountain Tire Tube', 'Touring Tire Tube', 'Patch Kit/8 Patches',\n",
       "       'HL Mountain Tire', 'LL Mountain Tire', 'Road Tire Tube',\n",
       "       'LL Road Tire', 'Touring Tire', 'ML Mountain Tire', 'HL Road Tire',\n",
       "       'ML Road Tire', 'Touring-1000 Yellow, 50', 'Touring-1000 Blue, 46',\n",
       "       'Touring-1000 Yellow, 60', 'Touring-1000 Blue, 50',\n",
       "       'Touring-3000 Yellow, 50', 'Touring-3000 Blue, 54',\n",
       "       'Touring-3000 Blue, 58', 'Touring-3000 Yellow, 44',\n",
       "       'Touring-3000 Yellow, 54', 'Touring-3000 Blue, 62',\n",
       "       'Touring-3000 Blue, 44', 'Touring-1000 Blue, 54',\n",
       "       'Touring-1000 Yellow, 46', 'Touring-1000 Blue, 60',\n",
       "       'Touring-3000 Yellow, 62', 'Touring-1000 Yellow, 54',\n",
       "       'Touring-2000 Blue, 54', 'Touring-3000 Blue, 50',\n",
       "       'Touring-3000 Yellow, 58', 'Touring-2000 Blue, 46',\n",
       "       'Touring-2000 Blue, 50', 'Touring-2000 Blue, 60',\n",
       "       'Classic Vest, L', 'Classic Vest, M', 'Classic Vest, S'],\n",
       "      dtype=object)"
      ]
     },
     "execution_count": 37,
     "metadata": {},
     "output_type": "execute_result"
    }
   ],
   "source": [
    "sales['Product'].unique()"
   ]
  },
  {
   "cell_type": "code",
   "execution_count": 38,
   "id": "2b0b80e1",
   "metadata": {
    "execution": {
     "iopub.execute_input": "2023-02-11T13:15:11.544926Z",
     "iopub.status.busy": "2023-02-11T13:15:11.544550Z",
     "iopub.status.idle": "2023-02-11T13:15:11.726794Z",
     "shell.execute_reply": "2023-02-11T13:15:11.725817Z"
    },
    "papermill": {
     "duration": 0.207762,
     "end_time": "2023-02-11T13:15:11.729370",
     "exception": false,
     "start_time": "2023-02-11T13:15:11.521608",
     "status": "completed"
    },
    "tags": []
   },
   "outputs": [
    {
     "data": {
      "text/plain": [
       "<AxesSubplot:>"
      ]
     },
     "execution_count": 38,
     "metadata": {},
     "output_type": "execute_result"
    },
    {
     "data": {
      "image/png": "[encoded data removed]",
      "text/plain": [
       "<Figure size 1008x432 with 1 Axes>"
      ]
     },
     "metadata": {
      "needs_background": "light"
     },
     "output_type": "display_data"
    }
   ],
   "source": [
    "sales['Product'].value_counts().head(10).plot(kind='bar', figsize=(14,6))"
   ]
  },
  {
   "cell_type": "code",
   "execution_count": 39,
   "id": "257742ef",
   "metadata": {
    "execution": {
     "iopub.execute_input": "2023-02-11T13:15:11.775527Z",
     "iopub.status.busy": "2023-02-11T13:15:11.774419Z",
     "iopub.status.idle": "2023-02-11T13:15:12.071142Z",
     "shell.execute_reply": "2023-02-11T13:15:12.069763Z"
    },
    "papermill": {
     "duration": 0.321562,
     "end_time": "2023-02-11T13:15:12.073048",
     "exception": false,
     "start_time": "2023-02-11T13:15:11.751486",
     "status": "completed"
    },
    "tags": []
   },
   "outputs": [
    {
     "data": {
      "text/plain": [
       "<AxesSubplot:xlabel='Order_Quantity', ylabel='Unit_Price'>"
      ]
     },
     "execution_count": 39,
     "metadata": {},
     "output_type": "execute_result"
    },
    {
     "data": {
      "image/png": "[encoded data removed]",
      "text/plain": [
       "<Figure size 432x432 with 1 Axes>"
      ]
     },
     "metadata": {
      "needs_background": "light"
     },
     "output_type": "display_data"
    }
   ],
   "source": [
    "sales.plot(kind = 'scatter', x = 'Order_Quantity', y = 'Unit_Price', figsize = (6, 6) )"
   ]
  },
  {
   "cell_type": "markdown",
   "id": "faa259c1",
   "metadata": {
    "papermill": {
     "duration": 0.021753,
     "end_time": "2023-02-11T13:15:12.116850",
     "exception": false,
     "start_time": "2023-02-11T13:15:12.095097",
     "status": "completed"
    },
    "tags": []
   },
   "source": [
    "## Column Wrangling"
   ]
  },
  {
   "cell_type": "markdown",
   "id": "682853ff",
   "metadata": {
    "papermill": {
     "duration": 0.021779,
     "end_time": "2023-02-11T13:15:12.160902",
     "exception": false,
     "start_time": "2023-02-11T13:15:12.139123",
     "status": "completed"
    },
    "tags": []
   },
   "source": [
    "We can crate new columns or modify existing ones."
   ]
  },
  {
   "cell_type": "markdown",
   "id": "75c2ab77",
   "metadata": {
    "papermill": {
     "duration": 0.02249,
     "end_time": "2023-02-11T13:15:12.206923",
     "exception": false,
     "start_time": "2023-02-11T13:15:12.184433",
     "status": "completed"
    },
    "tags": []
   },
   "source": [
    "### Revenue per Age"
   ]
  },
  {
   "cell_type": "code",
   "execution_count": 40,
   "id": "7b6b9067",
   "metadata": {
    "execution": {
     "iopub.execute_input": "2023-02-11T13:15:12.254900Z",
     "iopub.status.busy": "2023-02-11T13:15:12.253673Z",
     "iopub.status.idle": "2023-02-11T13:15:12.263409Z",
     "shell.execute_reply": "2023-02-11T13:15:12.262532Z"
    },
    "papermill": {
     "duration": 0.035521,
     "end_time": "2023-02-11T13:15:12.265329",
     "exception": false,
     "start_time": "2023-02-11T13:15:12.229808",
     "status": "completed"
    },
    "tags": []
   },
   "outputs": [
    {
     "data": {
      "text/plain": [
       "0    50.000000\n",
       "1    50.000000\n",
       "2    49.000000\n",
       "3    42.612245\n",
       "4     8.893617\n",
       "Name: Revenue_per_Age, dtype: float64"
      ]
     },
     "execution_count": 40,
     "metadata": {},
     "output_type": "execute_result"
    }
   ],
   "source": [
    "sales['Revenue_per_Age'] = sales['Revenue'] / sales['Customer_Age']\n",
    "sales['Revenue_per_Age'].head()"
   ]
  },
  {
   "cell_type": "code",
   "execution_count": 41,
   "id": "e6556285",
   "metadata": {
    "execution": {
     "iopub.execute_input": "2023-02-11T13:15:12.312157Z",
     "iopub.status.busy": "2023-02-11T13:15:12.311745Z",
     "iopub.status.idle": "2023-02-11T13:15:14.937444Z",
     "shell.execute_reply": "2023-02-11T13:15:14.936250Z"
    },
    "papermill": {
     "duration": 2.651564,
     "end_time": "2023-02-11T13:15:14.939467",
     "exception": false,
     "start_time": "2023-02-11T13:15:12.287903",
     "status": "completed"
    },
    "tags": []
   },
   "outputs": [
    {
     "data": {
      "text/plain": [
       "<AxesSubplot:ylabel='Density'>"
      ]
     },
     "execution_count": 41,
     "metadata": {},
     "output_type": "execute_result"
    },
    {
     "data": {
      "image/png": "[encoded data removed]",
      "text/plain": [
       "<Figure size 1008x432 with 1 Axes>"
      ]
     },
     "metadata": {
      "needs_background": "light"
     },
     "output_type": "display_data"
    }
   ],
   "source": [
    "sales['Revenue_per_Age'].plot(kind = 'density', figsize = (14, 6))"
   ]
  },
  {
   "cell_type": "code",
   "execution_count": 42,
   "id": "870b925a",
   "metadata": {
    "execution": {
     "iopub.execute_input": "2023-02-11T13:15:14.988098Z",
     "iopub.status.busy": "2023-02-11T13:15:14.987645Z",
     "iopub.status.idle": "2023-02-11T13:15:15.161418Z",
     "shell.execute_reply": "2023-02-11T13:15:15.160396Z"
    },
    "papermill": {
     "duration": 0.200383,
     "end_time": "2023-02-11T13:15:15.163261",
     "exception": false,
     "start_time": "2023-02-11T13:15:14.962878",
     "status": "completed"
    },
    "tags": []
   },
   "outputs": [
    {
     "data": {
      "text/plain": [
       "<AxesSubplot:ylabel='Frequency'>"
      ]
     },
     "execution_count": 42,
     "metadata": {},
     "output_type": "execute_result"
    },
    {
     "data": {
      "image/png": "[encoded data removed]",
      "text/plain": [
       "<Figure size 1008x432 with 1 Axes>"
      ]
     },
     "metadata": {
      "needs_background": "light"
     },
     "output_type": "display_data"
    }
   ],
   "source": [
    "sales['Revenue_per_Age'].plot(kind = 'hist', figsize = (14, 6))"
   ]
  },
  {
   "cell_type": "markdown",
   "id": "52526fdd",
   "metadata": {
    "papermill": {
     "duration": 0.022062,
     "end_time": "2023-02-11T13:15:15.208110",
     "exception": false,
     "start_time": "2023-02-11T13:15:15.186048",
     "status": "completed"
    },
    "tags": []
   },
   "source": [
    "### Calculated Cost"
   ]
  },
  {
   "cell_type": "code",
   "execution_count": 43,
   "id": "d6663271",
   "metadata": {
    "execution": {
     "iopub.execute_input": "2023-02-11T13:15:15.255102Z",
     "iopub.status.busy": "2023-02-11T13:15:15.253932Z",
     "iopub.status.idle": "2023-02-11T13:15:15.262796Z",
     "shell.execute_reply": "2023-02-11T13:15:15.261399Z"
    },
    "papermill": {
     "duration": 0.03458,
     "end_time": "2023-02-11T13:15:15.264967",
     "exception": false,
     "start_time": "2023-02-11T13:15:15.230387",
     "status": "completed"
    },
    "tags": []
   },
   "outputs": [
    {
     "data": {
      "text/plain": [
       "0     360\n",
       "1     360\n",
       "2    1035\n",
       "3     900\n",
       "4     180\n",
       "Name: Calculated_Cost, dtype: int64"
      ]
     },
     "execution_count": 43,
     "metadata": {},
     "output_type": "execute_result"
    }
   ],
   "source": [
    "sales['Calculated_Cost'] = sales['Order_Quantity'] * sales['Unit_Cost']\n",
    "sales['Calculated_Cost'].head()"
   ]
  },
  {
   "cell_type": "code",
   "execution_count": 44,
   "id": "52ecef65",
   "metadata": {
    "execution": {
     "iopub.execute_input": "2023-02-11T13:15:15.314474Z",
     "iopub.status.busy": "2023-02-11T13:15:15.313826Z",
     "iopub.status.idle": "2023-02-11T13:15:15.320549Z",
     "shell.execute_reply": "2023-02-11T13:15:15.319676Z"
    },
    "papermill": {
     "duration": 0.0337,
     "end_time": "2023-02-11T13:15:15.322497",
     "exception": false,
     "start_time": "2023-02-11T13:15:15.288797",
     "status": "completed"
    },
    "tags": []
   },
   "outputs": [
    {
     "data": {
      "text/plain": [
       "0"
      ]
     },
     "execution_count": 44,
     "metadata": {},
     "output_type": "execute_result"
    }
   ],
   "source": [
    "(sales['Calculated_Cost'] != sales['Cost']).sum()"
   ]
  },
  {
   "cell_type": "code",
   "execution_count": 45,
   "id": "6d9435aa",
   "metadata": {
    "execution": {
     "iopub.execute_input": "2023-02-11T13:15:15.371887Z",
     "iopub.status.busy": "2023-02-11T13:15:15.371519Z",
     "iopub.status.idle": "2023-02-11T13:15:15.673873Z",
     "shell.execute_reply": "2023-02-11T13:15:15.672973Z"
    },
    "papermill": {
     "duration": 0.329407,
     "end_time": "2023-02-11T13:15:15.675864",
     "exception": false,
     "start_time": "2023-02-11T13:15:15.346457",
     "status": "completed"
    },
    "tags": []
   },
   "outputs": [
    {
     "data": {
      "text/plain": [
       "<AxesSubplot:xlabel='Calculated_Cost', ylabel='Profit'>"
      ]
     },
     "execution_count": 45,
     "metadata": {},
     "output_type": "execute_result"
    },
    {
     "data": {
      "image/png": "[encoded data removed]",
      "text/plain": [
       "<Figure size 432x432 with 1 Axes>"
      ]
     },
     "metadata": {
      "needs_background": "light"
     },
     "output_type": "display_data"
    }
   ],
   "source": [
    "sales.plot(kind = 'scatter', x = 'Calculated_Cost', y = 'Profit', figsize = (6, 6))"
   ]
  },
  {
   "cell_type": "markdown",
   "id": "1aecb366",
   "metadata": {
    "papermill": {
     "duration": 0.024796,
     "end_time": "2023-02-11T13:15:15.723998",
     "exception": false,
     "start_time": "2023-02-11T13:15:15.699202",
     "status": "completed"
    },
    "tags": []
   },
   "source": [
    "### Calculated Revenue"
   ]
  },
  {
   "cell_type": "code",
   "execution_count": 46,
   "id": "db106e0d",
   "metadata": {
    "execution": {
     "iopub.execute_input": "2023-02-11T13:15:15.772882Z",
     "iopub.status.busy": "2023-02-11T13:15:15.772496Z",
     "iopub.status.idle": "2023-02-11T13:15:15.780679Z",
     "shell.execute_reply": "2023-02-11T13:15:15.779846Z"
    },
    "papermill": {
     "duration": 0.035007,
     "end_time": "2023-02-11T13:15:15.782433",
     "exception": false,
     "start_time": "2023-02-11T13:15:15.747426",
     "status": "completed"
    },
    "tags": []
   },
   "outputs": [
    {
     "data": {
      "text/plain": [
       "0     950\n",
       "1     950\n",
       "2    2401\n",
       "3    2088\n",
       "4     418\n",
       "Name: Calculated_Revenue, dtype: int64"
      ]
     },
     "execution_count": 46,
     "metadata": {},
     "output_type": "execute_result"
    }
   ],
   "source": [
    "sales['Calculated_Revenue'] = sales['Cost'] + sales['Profit']\n",
    "sales['Calculated_Revenue'].head()"
   ]
  },
  {
   "cell_type": "code",
   "execution_count": 47,
   "id": "4744bb56",
   "metadata": {
    "execution": {
     "iopub.execute_input": "2023-02-11T13:15:15.832448Z",
     "iopub.status.busy": "2023-02-11T13:15:15.832009Z",
     "iopub.status.idle": "2023-02-11T13:15:15.839559Z",
     "shell.execute_reply": "2023-02-11T13:15:15.838168Z"
    },
    "papermill": {
     "duration": 0.035234,
     "end_time": "2023-02-11T13:15:15.841460",
     "exception": false,
     "start_time": "2023-02-11T13:15:15.806226",
     "status": "completed"
    },
    "tags": []
   },
   "outputs": [
    {
     "data": {
      "text/plain": [
       "0"
      ]
     },
     "execution_count": 47,
     "metadata": {},
     "output_type": "execute_result"
    }
   ],
   "source": [
    "(sales['Calculated_Revenue'] != sales['Revenue']).sum()"
   ]
  },
  {
   "cell_type": "code",
   "execution_count": 48,
   "id": "59e149e8",
   "metadata": {
    "execution": {
     "iopub.execute_input": "2023-02-11T13:15:15.891163Z",
     "iopub.status.busy": "2023-02-11T13:15:15.890768Z",
     "iopub.status.idle": "2023-02-11T13:15:15.914328Z",
     "shell.execute_reply": "2023-02-11T13:15:15.912905Z"
    },
    "papermill": {
     "duration": 0.05156,
     "end_time": "2023-02-11T13:15:15.916819",
     "exception": false,
     "start_time": "2023-02-11T13:15:15.865259",
     "status": "completed"
    },
    "tags": []
   },
   "outputs": [
    {
     "data": {
      "text/html": [
       "<div>\n",
       "<style scoped>\n",
       "    .dataframe tbody tr th:only-of-type {\n",
       "        vertical-align: middle;\n",
       "    }\n",
       "\n",
       "    .dataframe tbody tr th {\n",
       "        vertical-align: top;\n",
       "    }\n",
       "\n",
       "    .dataframe thead th {\n",
       "        text-align: right;\n",
       "    }\n",
       "</style>\n",
       "<table border=\"1\" class=\"dataframe\">\n",
       "  <thead>\n",
       "    <tr style=\"text-align: right;\">\n",
       "      <th></th>\n",
       "      <th>Date</th>\n",
       "      <th>Day</th>\n",
       "      <th>Month</th>\n",
       "      <th>Year</th>\n",
       "      <th>Customer_Age</th>\n",
       "      <th>Age_Group</th>\n",
       "      <th>Customer_Gender</th>\n",
       "      <th>Country</th>\n",
       "      <th>State</th>\n",
       "      <th>Product_Category</th>\n",
       "      <th>...</th>\n",
       "      <th>Product</th>\n",
       "      <th>Order_Quantity</th>\n",
       "      <th>Unit_Cost</th>\n",
       "      <th>Unit_Price</th>\n",
       "      <th>Profit</th>\n",
       "      <th>Cost</th>\n",
       "      <th>Revenue</th>\n",
       "      <th>Revenue_per_Age</th>\n",
       "      <th>Calculated_Cost</th>\n",
       "      <th>Calculated_Revenue</th>\n",
       "    </tr>\n",
       "  </thead>\n",
       "  <tbody>\n",
       "    <tr>\n",
       "      <th>0</th>\n",
       "      <td>2013-11-26</td>\n",
       "      <td>26</td>\n",
       "      <td>November</td>\n",
       "      <td>2013</td>\n",
       "      <td>19</td>\n",
       "      <td>Youth (&lt;25)</td>\n",
       "      <td>M</td>\n",
       "      <td>Canada</td>\n",
       "      <td>British Columbia</td>\n",
       "      <td>Accessories</td>\n",
       "      <td>...</td>\n",
       "      <td>Hitch Rack - 4-Bike</td>\n",
       "      <td>8</td>\n",
       "      <td>45</td>\n",
       "      <td>120</td>\n",
       "      <td>590</td>\n",
       "      <td>360</td>\n",
       "      <td>950</td>\n",
       "      <td>50.000000</td>\n",
       "      <td>360</td>\n",
       "      <td>950</td>\n",
       "    </tr>\n",
       "    <tr>\n",
       "      <th>1</th>\n",
       "      <td>2015-11-26</td>\n",
       "      <td>26</td>\n",
       "      <td>November</td>\n",
       "      <td>2015</td>\n",
       "      <td>19</td>\n",
       "      <td>Youth (&lt;25)</td>\n",
       "      <td>M</td>\n",
       "      <td>Canada</td>\n",
       "      <td>British Columbia</td>\n",
       "      <td>Accessories</td>\n",
       "      <td>...</td>\n",
       "      <td>Hitch Rack - 4-Bike</td>\n",
       "      <td>8</td>\n",
       "      <td>45</td>\n",
       "      <td>120</td>\n",
       "      <td>590</td>\n",
       "      <td>360</td>\n",
       "      <td>950</td>\n",
       "      <td>50.000000</td>\n",
       "      <td>360</td>\n",
       "      <td>950</td>\n",
       "    </tr>\n",
       "    <tr>\n",
       "      <th>2</th>\n",
       "      <td>2014-03-23</td>\n",
       "      <td>23</td>\n",
       "      <td>March</td>\n",
       "      <td>2014</td>\n",
       "      <td>49</td>\n",
       "      <td>Adults (35-64)</td>\n",
       "      <td>M</td>\n",
       "      <td>Australia</td>\n",
       "      <td>New South Wales</td>\n",
       "      <td>Accessories</td>\n",
       "      <td>...</td>\n",
       "      <td>Hitch Rack - 4-Bike</td>\n",
       "      <td>23</td>\n",
       "      <td>45</td>\n",
       "      <td>120</td>\n",
       "      <td>1366</td>\n",
       "      <td>1035</td>\n",
       "      <td>2401</td>\n",
       "      <td>49.000000</td>\n",
       "      <td>1035</td>\n",
       "      <td>2401</td>\n",
       "    </tr>\n",
       "    <tr>\n",
       "      <th>3</th>\n",
       "      <td>2016-03-23</td>\n",
       "      <td>23</td>\n",
       "      <td>March</td>\n",
       "      <td>2016</td>\n",
       "      <td>49</td>\n",
       "      <td>Adults (35-64)</td>\n",
       "      <td>M</td>\n",
       "      <td>Australia</td>\n",
       "      <td>New South Wales</td>\n",
       "      <td>Accessories</td>\n",
       "      <td>...</td>\n",
       "      <td>Hitch Rack - 4-Bike</td>\n",
       "      <td>20</td>\n",
       "      <td>45</td>\n",
       "      <td>120</td>\n",
       "      <td>1188</td>\n",
       "      <td>900</td>\n",
       "      <td>2088</td>\n",
       "      <td>42.612245</td>\n",
       "      <td>900</td>\n",
       "      <td>2088</td>\n",
       "    </tr>\n",
       "    <tr>\n",
       "      <th>4</th>\n",
       "      <td>2014-05-15</td>\n",
       "      <td>15</td>\n",
       "      <td>May</td>\n",
       "      <td>2014</td>\n",
       "      <td>47</td>\n",
       "      <td>Adults (35-64)</td>\n",
       "      <td>F</td>\n",
       "      <td>Australia</td>\n",
       "      <td>New South Wales</td>\n",
       "      <td>Accessories</td>\n",
       "      <td>...</td>\n",
       "      <td>Hitch Rack - 4-Bike</td>\n",
       "      <td>4</td>\n",
       "      <td>45</td>\n",
       "      <td>120</td>\n",
       "      <td>238</td>\n",
       "      <td>180</td>\n",
       "      <td>418</td>\n",
       "      <td>8.893617</td>\n",
       "      <td>180</td>\n",
       "      <td>418</td>\n",
       "    </tr>\n",
       "  </tbody>\n",
       "</table>\n",
       "<p>5 rows × 21 columns</p>\n",
       "</div>"
      ],
      "text/plain": [
       "        Date  Day     Month  Year  Customer_Age       Age_Group  \\\n",
       "0 2013-11-26   26  November  2013            19     Youth (<25)   \n",
       "1 2015-11-26   26  November  2015            19     Youth (<25)   \n",
       "2 2014-03-23   23     March  2014            49  Adults (35-64)   \n",
       "3 2016-03-23   23     March  2016            49  Adults (35-64)   \n",
       "4 2014-05-15   15       May  2014            47  Adults (35-64)   \n",
       "\n",
       "  Customer_Gender    Country             State Product_Category  ...  \\\n",
       "0               M     Canada  British Columbia      Accessories  ...   \n",
       "1               M     Canada  British Columbia      Accessories  ...   \n",
       "2               M  Australia   New South Wales      Accessories  ...   \n",
       "3               M  Australia   New South Wales      Accessories  ...   \n",
       "4               F  Australia   New South Wales      Accessories  ...   \n",
       "\n",
       "               Product Order_Quantity  Unit_Cost  Unit_Price  Profit  Cost  \\\n",
       "0  Hitch Rack - 4-Bike              8         45         120     590   360   \n",
       "1  Hitch Rack - 4-Bike              8         45         120     590   360   \n",
       "2  Hitch Rack - 4-Bike             23         45         120    1366  1035   \n",
       "3  Hitch Rack - 4-Bike             20         45         120    1188   900   \n",
       "4  Hitch Rack - 4-Bike              4         45         120     238   180   \n",
       "\n",
       "   Revenue  Revenue_per_Age  Calculated_Cost  Calculated_Revenue  \n",
       "0      950        50.000000              360                 950  \n",
       "1      950        50.000000              360                 950  \n",
       "2     2401        49.000000             1035                2401  \n",
       "3     2088        42.612245              900                2088  \n",
       "4      418         8.893617              180                 418  \n",
       "\n",
       "[5 rows x 21 columns]"
      ]
     },
     "execution_count": 48,
     "metadata": {},
     "output_type": "execute_result"
    }
   ],
   "source": [
    "sales.head()"
   ]
  },
  {
   "cell_type": "code",
   "execution_count": 49,
   "id": "933418d4",
   "metadata": {
    "execution": {
     "iopub.execute_input": "2023-02-11T13:15:15.967058Z",
     "iopub.status.busy": "2023-02-11T13:15:15.966677Z",
     "iopub.status.idle": "2023-02-11T13:15:16.259514Z",
     "shell.execute_reply": "2023-02-11T13:15:16.258444Z"
    },
    "papermill": {
     "duration": 0.320629,
     "end_time": "2023-02-11T13:15:16.261628",
     "exception": false,
     "start_time": "2023-02-11T13:15:15.940999",
     "status": "completed"
    },
    "tags": []
   },
   "outputs": [
    {
     "data": {
      "text/plain": [
       "<AxesSubplot:ylabel='Frequency'>"
      ]
     },
     "execution_count": 49,
     "metadata": {},
     "output_type": "execute_result"
    },
    {
     "data": {
      "image/png": "[encoded data removed]",
      "text/plain": [
       "<Figure size 1008x432 with 1 Axes>"
      ]
     },
     "metadata": {
      "needs_background": "light"
     },
     "output_type": "display_data"
    }
   ],
   "source": [
    "sales['Revenue'].plot(kind = 'hist', bins = 100 ,figsize = (14, 6))"
   ]
  },
  {
   "cell_type": "code",
   "execution_count": 50,
   "id": "6bd27694",
   "metadata": {
    "execution": {
     "iopub.execute_input": "2023-02-11T13:15:16.316508Z",
     "iopub.status.busy": "2023-02-11T13:15:16.315903Z",
     "iopub.status.idle": "2023-02-11T13:15:16.322430Z",
     "shell.execute_reply": "2023-02-11T13:15:16.321296Z"
    },
    "papermill": {
     "duration": 0.038504,
     "end_time": "2023-02-11T13:15:16.324798",
     "exception": false,
     "start_time": "2023-02-11T13:15:16.286294",
     "status": "completed"
    },
    "tags": []
   },
   "outputs": [],
   "source": [
    "sales['Unit_Price'] *= 1.03"
   ]
  },
  {
   "cell_type": "code",
   "execution_count": 51,
   "id": "d9c6be93",
   "metadata": {
    "execution": {
     "iopub.execute_input": "2023-02-11T13:15:16.375183Z",
     "iopub.status.busy": "2023-02-11T13:15:16.374598Z",
     "iopub.status.idle": "2023-02-11T13:15:16.381508Z",
     "shell.execute_reply": "2023-02-11T13:15:16.380820Z"
    },
    "papermill": {
     "duration": 0.034087,
     "end_time": "2023-02-11T13:15:16.383237",
     "exception": false,
     "start_time": "2023-02-11T13:15:16.349150",
     "status": "completed"
    },
    "tags": []
   },
   "outputs": [
    {
     "data": {
      "text/plain": [
       "0    123.6\n",
       "1    123.6\n",
       "2    123.6\n",
       "3    123.6\n",
       "4    123.6\n",
       "Name: Unit_Price, dtype: float64"
      ]
     },
     "execution_count": 51,
     "metadata": {},
     "output_type": "execute_result"
    }
   ],
   "source": [
    "sales['Unit_Price'].head()"
   ]
  },
  {
   "cell_type": "markdown",
   "id": "912f33a6",
   "metadata": {
    "papermill": {
     "duration": 0.023605,
     "end_time": "2023-02-11T13:15:16.431220",
     "exception": false,
     "start_time": "2023-02-11T13:15:16.407615",
     "status": "completed"
    },
    "tags": []
   },
   "source": [
    "## Selection & Indexing"
   ]
  },
  {
   "cell_type": "code",
   "execution_count": 52,
   "id": "a7b34d32",
   "metadata": {
    "execution": {
     "iopub.execute_input": "2023-02-11T13:15:16.481479Z",
     "iopub.status.busy": "2023-02-11T13:15:16.480918Z",
     "iopub.status.idle": "2023-02-11T13:15:16.501498Z",
     "shell.execute_reply": "2023-02-11T13:15:16.500620Z"
    },
    "papermill": {
     "duration": 0.047832,
     "end_time": "2023-02-11T13:15:16.503365",
     "exception": false,
     "start_time": "2023-02-11T13:15:16.455533",
     "status": "completed"
    },
    "tags": []
   },
   "outputs": [
    {
     "data": {
      "text/html": [
       "<div>\n",
       "<style scoped>\n",
       "    .dataframe tbody tr th:only-of-type {\n",
       "        vertical-align: middle;\n",
       "    }\n",
       "\n",
       "    .dataframe tbody tr th {\n",
       "        vertical-align: top;\n",
       "    }\n",
       "\n",
       "    .dataframe thead th {\n",
       "        text-align: right;\n",
       "    }\n",
       "</style>\n",
       "<table border=\"1\" class=\"dataframe\">\n",
       "  <thead>\n",
       "    <tr style=\"text-align: right;\">\n",
       "      <th></th>\n",
       "      <th>Date</th>\n",
       "      <th>Day</th>\n",
       "      <th>Month</th>\n",
       "      <th>Year</th>\n",
       "      <th>Customer_Age</th>\n",
       "      <th>Age_Group</th>\n",
       "      <th>Customer_Gender</th>\n",
       "      <th>Country</th>\n",
       "      <th>State</th>\n",
       "      <th>Product_Category</th>\n",
       "      <th>...</th>\n",
       "      <th>Product</th>\n",
       "      <th>Order_Quantity</th>\n",
       "      <th>Unit_Cost</th>\n",
       "      <th>Unit_Price</th>\n",
       "      <th>Profit</th>\n",
       "      <th>Cost</th>\n",
       "      <th>Revenue</th>\n",
       "      <th>Revenue_per_Age</th>\n",
       "      <th>Calculated_Cost</th>\n",
       "      <th>Calculated_Revenue</th>\n",
       "    </tr>\n",
       "  </thead>\n",
       "  <tbody>\n",
       "    <tr>\n",
       "      <th>0</th>\n",
       "      <td>2013-11-26</td>\n",
       "      <td>26</td>\n",
       "      <td>November</td>\n",
       "      <td>2013</td>\n",
       "      <td>19</td>\n",
       "      <td>Youth (&lt;25)</td>\n",
       "      <td>M</td>\n",
       "      <td>Canada</td>\n",
       "      <td>British Columbia</td>\n",
       "      <td>Accessories</td>\n",
       "      <td>...</td>\n",
       "      <td>Hitch Rack - 4-Bike</td>\n",
       "      <td>8</td>\n",
       "      <td>45</td>\n",
       "      <td>123.6</td>\n",
       "      <td>590</td>\n",
       "      <td>360</td>\n",
       "      <td>950</td>\n",
       "      <td>50.000000</td>\n",
       "      <td>360</td>\n",
       "      <td>950</td>\n",
       "    </tr>\n",
       "    <tr>\n",
       "      <th>1</th>\n",
       "      <td>2015-11-26</td>\n",
       "      <td>26</td>\n",
       "      <td>November</td>\n",
       "      <td>2015</td>\n",
       "      <td>19</td>\n",
       "      <td>Youth (&lt;25)</td>\n",
       "      <td>M</td>\n",
       "      <td>Canada</td>\n",
       "      <td>British Columbia</td>\n",
       "      <td>Accessories</td>\n",
       "      <td>...</td>\n",
       "      <td>Hitch Rack - 4-Bike</td>\n",
       "      <td>8</td>\n",
       "      <td>45</td>\n",
       "      <td>123.6</td>\n",
       "      <td>590</td>\n",
       "      <td>360</td>\n",
       "      <td>950</td>\n",
       "      <td>50.000000</td>\n",
       "      <td>360</td>\n",
       "      <td>950</td>\n",
       "    </tr>\n",
       "    <tr>\n",
       "      <th>2</th>\n",
       "      <td>2014-03-23</td>\n",
       "      <td>23</td>\n",
       "      <td>March</td>\n",
       "      <td>2014</td>\n",
       "      <td>49</td>\n",
       "      <td>Adults (35-64)</td>\n",
       "      <td>M</td>\n",
       "      <td>Australia</td>\n",
       "      <td>New South Wales</td>\n",
       "      <td>Accessories</td>\n",
       "      <td>...</td>\n",
       "      <td>Hitch Rack - 4-Bike</td>\n",
       "      <td>23</td>\n",
       "      <td>45</td>\n",
       "      <td>123.6</td>\n",
       "      <td>1366</td>\n",
       "      <td>1035</td>\n",
       "      <td>2401</td>\n",
       "      <td>49.000000</td>\n",
       "      <td>1035</td>\n",
       "      <td>2401</td>\n",
       "    </tr>\n",
       "    <tr>\n",
       "      <th>3</th>\n",
       "      <td>2016-03-23</td>\n",
       "      <td>23</td>\n",
       "      <td>March</td>\n",
       "      <td>2016</td>\n",
       "      <td>49</td>\n",
       "      <td>Adults (35-64)</td>\n",
       "      <td>M</td>\n",
       "      <td>Australia</td>\n",
       "      <td>New South Wales</td>\n",
       "      <td>Accessories</td>\n",
       "      <td>...</td>\n",
       "      <td>Hitch Rack - 4-Bike</td>\n",
       "      <td>20</td>\n",
       "      <td>45</td>\n",
       "      <td>123.6</td>\n",
       "      <td>1188</td>\n",
       "      <td>900</td>\n",
       "      <td>2088</td>\n",
       "      <td>42.612245</td>\n",
       "      <td>900</td>\n",
       "      <td>2088</td>\n",
       "    </tr>\n",
       "    <tr>\n",
       "      <th>4</th>\n",
       "      <td>2014-05-15</td>\n",
       "      <td>15</td>\n",
       "      <td>May</td>\n",
       "      <td>2014</td>\n",
       "      <td>47</td>\n",
       "      <td>Adults (35-64)</td>\n",
       "      <td>F</td>\n",
       "      <td>Australia</td>\n",
       "      <td>New South Wales</td>\n",
       "      <td>Accessories</td>\n",
       "      <td>...</td>\n",
       "      <td>Hitch Rack - 4-Bike</td>\n",
       "      <td>4</td>\n",
       "      <td>45</td>\n",
       "      <td>123.6</td>\n",
       "      <td>238</td>\n",
       "      <td>180</td>\n",
       "      <td>418</td>\n",
       "      <td>8.893617</td>\n",
       "      <td>180</td>\n",
       "      <td>418</td>\n",
       "    </tr>\n",
       "  </tbody>\n",
       "</table>\n",
       "<p>5 rows × 21 columns</p>\n",
       "</div>"
      ],
      "text/plain": [
       "        Date  Day     Month  Year  Customer_Age       Age_Group  \\\n",
       "0 2013-11-26   26  November  2013            19     Youth (<25)   \n",
       "1 2015-11-26   26  November  2015            19     Youth (<25)   \n",
       "2 2014-03-23   23     March  2014            49  Adults (35-64)   \n",
       "3 2016-03-23   23     March  2016            49  Adults (35-64)   \n",
       "4 2014-05-15   15       May  2014            47  Adults (35-64)   \n",
       "\n",
       "  Customer_Gender    Country             State Product_Category  ...  \\\n",
       "0               M     Canada  British Columbia      Accessories  ...   \n",
       "1               M     Canada  British Columbia      Accessories  ...   \n",
       "2               M  Australia   New South Wales      Accessories  ...   \n",
       "3               M  Australia   New South Wales      Accessories  ...   \n",
       "4               F  Australia   New South Wales      Accessories  ...   \n",
       "\n",
       "               Product Order_Quantity  Unit_Cost  Unit_Price  Profit  Cost  \\\n",
       "0  Hitch Rack - 4-Bike              8         45       123.6     590   360   \n",
       "1  Hitch Rack - 4-Bike              8         45       123.6     590   360   \n",
       "2  Hitch Rack - 4-Bike             23         45       123.6    1366  1035   \n",
       "3  Hitch Rack - 4-Bike             20         45       123.6    1188   900   \n",
       "4  Hitch Rack - 4-Bike              4         45       123.6     238   180   \n",
       "\n",
       "   Revenue  Revenue_per_Age  Calculated_Cost  Calculated_Revenue  \n",
       "0      950        50.000000              360                 950  \n",
       "1      950        50.000000              360                 950  \n",
       "2     2401        49.000000             1035                2401  \n",
       "3     2088        42.612245              900                2088  \n",
       "4      418         8.893617              180                 418  \n",
       "\n",
       "[5 rows x 21 columns]"
      ]
     },
     "execution_count": 52,
     "metadata": {},
     "output_type": "execute_result"
    }
   ],
   "source": [
    "sales.head()"
   ]
  },
  {
   "cell_type": "code",
   "execution_count": 53,
   "id": "0846deca",
   "metadata": {
    "execution": {
     "iopub.execute_input": "2023-02-11T13:15:16.554257Z",
     "iopub.status.busy": "2023-02-11T13:15:16.553649Z",
     "iopub.status.idle": "2023-02-11T13:15:16.588591Z",
     "shell.execute_reply": "2023-02-11T13:15:16.587604Z"
    },
    "papermill": {
     "duration": 0.063036,
     "end_time": "2023-02-11T13:15:16.590712",
     "exception": false,
     "start_time": "2023-02-11T13:15:16.527676",
     "status": "completed"
    },
    "tags": []
   },
   "outputs": [
    {
     "data": {
      "text/html": [
       "<div>\n",
       "<style scoped>\n",
       "    .dataframe tbody tr th:only-of-type {\n",
       "        vertical-align: middle;\n",
       "    }\n",
       "\n",
       "    .dataframe tbody tr th {\n",
       "        vertical-align: top;\n",
       "    }\n",
       "\n",
       "    .dataframe thead th {\n",
       "        text-align: right;\n",
       "    }\n",
       "</style>\n",
       "<table border=\"1\" class=\"dataframe\">\n",
       "  <thead>\n",
       "    <tr style=\"text-align: right;\">\n",
       "      <th></th>\n",
       "      <th>Date</th>\n",
       "      <th>Day</th>\n",
       "      <th>Month</th>\n",
       "      <th>Year</th>\n",
       "      <th>Customer_Age</th>\n",
       "      <th>Age_Group</th>\n",
       "      <th>Customer_Gender</th>\n",
       "      <th>Country</th>\n",
       "      <th>State</th>\n",
       "      <th>Product_Category</th>\n",
       "      <th>...</th>\n",
       "      <th>Product</th>\n",
       "      <th>Order_Quantity</th>\n",
       "      <th>Unit_Cost</th>\n",
       "      <th>Unit_Price</th>\n",
       "      <th>Profit</th>\n",
       "      <th>Cost</th>\n",
       "      <th>Revenue</th>\n",
       "      <th>Revenue_per_Age</th>\n",
       "      <th>Calculated_Cost</th>\n",
       "      <th>Calculated_Revenue</th>\n",
       "    </tr>\n",
       "  </thead>\n",
       "  <tbody>\n",
       "    <tr>\n",
       "      <th>156</th>\n",
       "      <td>2013-11-04</td>\n",
       "      <td>4</td>\n",
       "      <td>November</td>\n",
       "      <td>2013</td>\n",
       "      <td>40</td>\n",
       "      <td>Adults (35-64)</td>\n",
       "      <td>M</td>\n",
       "      <td>United States</td>\n",
       "      <td>Kentucky</td>\n",
       "      <td>Accessories</td>\n",
       "      <td>...</td>\n",
       "      <td>Hitch Rack - 4-Bike</td>\n",
       "      <td>1</td>\n",
       "      <td>45</td>\n",
       "      <td>123.60</td>\n",
       "      <td>63</td>\n",
       "      <td>45</td>\n",
       "      <td>108</td>\n",
       "      <td>2.700</td>\n",
       "      <td>45</td>\n",
       "      <td>108</td>\n",
       "    </tr>\n",
       "    <tr>\n",
       "      <th>157</th>\n",
       "      <td>2015-11-04</td>\n",
       "      <td>4</td>\n",
       "      <td>November</td>\n",
       "      <td>2015</td>\n",
       "      <td>40</td>\n",
       "      <td>Adults (35-64)</td>\n",
       "      <td>M</td>\n",
       "      <td>United States</td>\n",
       "      <td>Kentucky</td>\n",
       "      <td>Accessories</td>\n",
       "      <td>...</td>\n",
       "      <td>Hitch Rack - 4-Bike</td>\n",
       "      <td>1</td>\n",
       "      <td>45</td>\n",
       "      <td>123.60</td>\n",
       "      <td>63</td>\n",
       "      <td>45</td>\n",
       "      <td>108</td>\n",
       "      <td>2.700</td>\n",
       "      <td>45</td>\n",
       "      <td>108</td>\n",
       "    </tr>\n",
       "    <tr>\n",
       "      <th>23826</th>\n",
       "      <td>2014-04-16</td>\n",
       "      <td>16</td>\n",
       "      <td>April</td>\n",
       "      <td>2014</td>\n",
       "      <td>40</td>\n",
       "      <td>Adults (35-64)</td>\n",
       "      <td>M</td>\n",
       "      <td>United States</td>\n",
       "      <td>Kentucky</td>\n",
       "      <td>Accessories</td>\n",
       "      <td>...</td>\n",
       "      <td>Fender Set - Mountain</td>\n",
       "      <td>12</td>\n",
       "      <td>8</td>\n",
       "      <td>22.66</td>\n",
       "      <td>142</td>\n",
       "      <td>96</td>\n",
       "      <td>238</td>\n",
       "      <td>5.950</td>\n",
       "      <td>96</td>\n",
       "      <td>238</td>\n",
       "    </tr>\n",
       "    <tr>\n",
       "      <th>23827</th>\n",
       "      <td>2016-04-16</td>\n",
       "      <td>16</td>\n",
       "      <td>April</td>\n",
       "      <td>2016</td>\n",
       "      <td>40</td>\n",
       "      <td>Adults (35-64)</td>\n",
       "      <td>M</td>\n",
       "      <td>United States</td>\n",
       "      <td>Kentucky</td>\n",
       "      <td>Accessories</td>\n",
       "      <td>...</td>\n",
       "      <td>Fender Set - Mountain</td>\n",
       "      <td>14</td>\n",
       "      <td>8</td>\n",
       "      <td>22.66</td>\n",
       "      <td>165</td>\n",
       "      <td>112</td>\n",
       "      <td>277</td>\n",
       "      <td>6.925</td>\n",
       "      <td>112</td>\n",
       "      <td>277</td>\n",
       "    </tr>\n",
       "    <tr>\n",
       "      <th>31446</th>\n",
       "      <td>2014-04-16</td>\n",
       "      <td>16</td>\n",
       "      <td>April</td>\n",
       "      <td>2014</td>\n",
       "      <td>40</td>\n",
       "      <td>Adults (35-64)</td>\n",
       "      <td>M</td>\n",
       "      <td>United States</td>\n",
       "      <td>Kentucky</td>\n",
       "      <td>Accessories</td>\n",
       "      <td>...</td>\n",
       "      <td>Sport-100 Helmet, Blue</td>\n",
       "      <td>29</td>\n",
       "      <td>13</td>\n",
       "      <td>36.05</td>\n",
       "      <td>537</td>\n",
       "      <td>377</td>\n",
       "      <td>914</td>\n",
       "      <td>22.850</td>\n",
       "      <td>377</td>\n",
       "      <td>914</td>\n",
       "    </tr>\n",
       "    <tr>\n",
       "      <th>31447</th>\n",
       "      <td>2016-04-16</td>\n",
       "      <td>16</td>\n",
       "      <td>April</td>\n",
       "      <td>2016</td>\n",
       "      <td>40</td>\n",
       "      <td>Adults (35-64)</td>\n",
       "      <td>M</td>\n",
       "      <td>United States</td>\n",
       "      <td>Kentucky</td>\n",
       "      <td>Accessories</td>\n",
       "      <td>...</td>\n",
       "      <td>Sport-100 Helmet, Blue</td>\n",
       "      <td>31</td>\n",
       "      <td>13</td>\n",
       "      <td>36.05</td>\n",
       "      <td>574</td>\n",
       "      <td>403</td>\n",
       "      <td>977</td>\n",
       "      <td>24.425</td>\n",
       "      <td>403</td>\n",
       "      <td>977</td>\n",
       "    </tr>\n",
       "    <tr>\n",
       "      <th>79670</th>\n",
       "      <td>2014-04-16</td>\n",
       "      <td>16</td>\n",
       "      <td>April</td>\n",
       "      <td>2014</td>\n",
       "      <td>40</td>\n",
       "      <td>Adults (35-64)</td>\n",
       "      <td>M</td>\n",
       "      <td>United States</td>\n",
       "      <td>Kentucky</td>\n",
       "      <td>Accessories</td>\n",
       "      <td>...</td>\n",
       "      <td>ML Mountain Tire</td>\n",
       "      <td>2</td>\n",
       "      <td>11</td>\n",
       "      <td>30.90</td>\n",
       "      <td>32</td>\n",
       "      <td>22</td>\n",
       "      <td>54</td>\n",
       "      <td>1.350</td>\n",
       "      <td>22</td>\n",
       "      <td>54</td>\n",
       "    </tr>\n",
       "    <tr>\n",
       "      <th>79671</th>\n",
       "      <td>2014-04-16</td>\n",
       "      <td>16</td>\n",
       "      <td>April</td>\n",
       "      <td>2014</td>\n",
       "      <td>40</td>\n",
       "      <td>Adults (35-64)</td>\n",
       "      <td>M</td>\n",
       "      <td>United States</td>\n",
       "      <td>Kentucky</td>\n",
       "      <td>Accessories</td>\n",
       "      <td>...</td>\n",
       "      <td>ML Mountain Tire</td>\n",
       "      <td>21</td>\n",
       "      <td>11</td>\n",
       "      <td>30.90</td>\n",
       "      <td>336</td>\n",
       "      <td>231</td>\n",
       "      <td>567</td>\n",
       "      <td>14.175</td>\n",
       "      <td>231</td>\n",
       "      <td>567</td>\n",
       "    </tr>\n",
       "    <tr>\n",
       "      <th>79672</th>\n",
       "      <td>2016-04-16</td>\n",
       "      <td>16</td>\n",
       "      <td>April</td>\n",
       "      <td>2016</td>\n",
       "      <td>40</td>\n",
       "      <td>Adults (35-64)</td>\n",
       "      <td>M</td>\n",
       "      <td>United States</td>\n",
       "      <td>Kentucky</td>\n",
       "      <td>Accessories</td>\n",
       "      <td>...</td>\n",
       "      <td>ML Mountain Tire</td>\n",
       "      <td>1</td>\n",
       "      <td>11</td>\n",
       "      <td>30.90</td>\n",
       "      <td>16</td>\n",
       "      <td>11</td>\n",
       "      <td>27</td>\n",
       "      <td>0.675</td>\n",
       "      <td>11</td>\n",
       "      <td>27</td>\n",
       "    </tr>\n",
       "    <tr>\n",
       "      <th>79673</th>\n",
       "      <td>2016-04-16</td>\n",
       "      <td>16</td>\n",
       "      <td>April</td>\n",
       "      <td>2016</td>\n",
       "      <td>40</td>\n",
       "      <td>Adults (35-64)</td>\n",
       "      <td>M</td>\n",
       "      <td>United States</td>\n",
       "      <td>Kentucky</td>\n",
       "      <td>Accessories</td>\n",
       "      <td>...</td>\n",
       "      <td>ML Mountain Tire</td>\n",
       "      <td>18</td>\n",
       "      <td>11</td>\n",
       "      <td>30.90</td>\n",
       "      <td>288</td>\n",
       "      <td>198</td>\n",
       "      <td>486</td>\n",
       "      <td>12.150</td>\n",
       "      <td>198</td>\n",
       "      <td>486</td>\n",
       "    </tr>\n",
       "  </tbody>\n",
       "</table>\n",
       "<p>10 rows × 21 columns</p>\n",
       "</div>"
      ],
      "text/plain": [
       "            Date  Day     Month  Year  Customer_Age       Age_Group  \\\n",
       "156   2013-11-04    4  November  2013            40  Adults (35-64)   \n",
       "157   2015-11-04    4  November  2015            40  Adults (35-64)   \n",
       "23826 2014-04-16   16     April  2014            40  Adults (35-64)   \n",
       "23827 2016-04-16   16     April  2016            40  Adults (35-64)   \n",
       "31446 2014-04-16   16     April  2014            40  Adults (35-64)   \n",
       "31447 2016-04-16   16     April  2016            40  Adults (35-64)   \n",
       "79670 2014-04-16   16     April  2014            40  Adults (35-64)   \n",
       "79671 2014-04-16   16     April  2014            40  Adults (35-64)   \n",
       "79672 2016-04-16   16     April  2016            40  Adults (35-64)   \n",
       "79673 2016-04-16   16     April  2016            40  Adults (35-64)   \n",
       "\n",
       "      Customer_Gender        Country     State Product_Category  ...  \\\n",
       "156                 M  United States  Kentucky      Accessories  ...   \n",
       "157                 M  United States  Kentucky      Accessories  ...   \n",
       "23826               M  United States  Kentucky      Accessories  ...   \n",
       "23827               M  United States  Kentucky      Accessories  ...   \n",
       "31446               M  United States  Kentucky      Accessories  ...   \n",
       "31447               M  United States  Kentucky      Accessories  ...   \n",
       "79670               M  United States  Kentucky      Accessories  ...   \n",
       "79671               M  United States  Kentucky      Accessories  ...   \n",
       "79672               M  United States  Kentucky      Accessories  ...   \n",
       "79673               M  United States  Kentucky      Accessories  ...   \n",
       "\n",
       "                      Product Order_Quantity  Unit_Cost  Unit_Price  Profit  \\\n",
       "156       Hitch Rack - 4-Bike              1         45      123.60      63   \n",
       "157       Hitch Rack - 4-Bike              1         45      123.60      63   \n",
       "23826   Fender Set - Mountain             12          8       22.66     142   \n",
       "23827   Fender Set - Mountain             14          8       22.66     165   \n",
       "31446  Sport-100 Helmet, Blue             29         13       36.05     537   \n",
       "31447  Sport-100 Helmet, Blue             31         13       36.05     574   \n",
       "79670        ML Mountain Tire              2         11       30.90      32   \n",
       "79671        ML Mountain Tire             21         11       30.90     336   \n",
       "79672        ML Mountain Tire              1         11       30.90      16   \n",
       "79673        ML Mountain Tire             18         11       30.90     288   \n",
       "\n",
       "       Cost  Revenue  Revenue_per_Age  Calculated_Cost  Calculated_Revenue  \n",
       "156      45      108            2.700               45                 108  \n",
       "157      45      108            2.700               45                 108  \n",
       "23826    96      238            5.950               96                 238  \n",
       "23827   112      277            6.925              112                 277  \n",
       "31446   377      914           22.850              377                 914  \n",
       "31447   403      977           24.425              403                 977  \n",
       "79670    22       54            1.350               22                  54  \n",
       "79671   231      567           14.175              231                 567  \n",
       "79672    11       27            0.675               11                  27  \n",
       "79673   198      486           12.150              198                 486  \n",
       "\n",
       "[10 rows x 21 columns]"
      ]
     },
     "execution_count": 53,
     "metadata": {},
     "output_type": "execute_result"
    }
   ],
   "source": [
    "sales.loc[sales['State'] == 'Kentucky']"
   ]
  },
  {
   "cell_type": "code",
   "execution_count": 54,
   "id": "c06444d4",
   "metadata": {
    "execution": {
     "iopub.execute_input": "2023-02-11T13:15:16.641393Z",
     "iopub.status.busy": "2023-02-11T13:15:16.641006Z",
     "iopub.status.idle": "2023-02-11T13:15:16.656981Z",
     "shell.execute_reply": "2023-02-11T13:15:16.655892Z"
    },
    "papermill": {
     "duration": 0.043587,
     "end_time": "2023-02-11T13:15:16.658976",
     "exception": false,
     "start_time": "2023-02-11T13:15:16.615389",
     "status": "completed"
    },
    "tags": []
   },
   "outputs": [
    {
     "data": {
      "text/plain": [
       "762.8287654055604"
      ]
     },
     "execution_count": 54,
     "metadata": {},
     "output_type": "execute_result"
    }
   ],
   "source": [
    "sales.loc[sales['Age_Group'] == 'Adults (35-64)', 'Revenue'].mean()"
   ]
  },
  {
   "cell_type": "code",
   "execution_count": 55,
   "id": "98880c06",
   "metadata": {
    "execution": {
     "iopub.execute_input": "2023-02-11T13:15:16.710996Z",
     "iopub.status.busy": "2023-02-11T13:15:16.709403Z",
     "iopub.status.idle": "2023-02-11T13:15:16.753504Z",
     "shell.execute_reply": "2023-02-11T13:15:16.751879Z"
    },
    "papermill": {
     "duration": 0.073178,
     "end_time": "2023-02-11T13:15:16.756773",
     "exception": false,
     "start_time": "2023-02-11T13:15:16.683595",
     "status": "completed"
    },
    "tags": []
   },
   "outputs": [
    {
     "data": {
      "text/plain": [
       "73652"
      ]
     },
     "execution_count": 55,
     "metadata": {},
     "output_type": "execute_result"
    }
   ],
   "source": [
    "sales.loc[(sales['Age_Group'] == 'Youth (<25)') | (sales['Age_Group'] == 'Adults (35-64)')].shape[0]"
   ]
  },
  {
   "cell_type": "code",
   "execution_count": 56,
   "id": "3c78fe6c",
   "metadata": {
    "execution": {
     "iopub.execute_input": "2023-02-11T13:15:16.819383Z",
     "iopub.status.busy": "2023-02-11T13:15:16.818687Z",
     "iopub.status.idle": "2023-02-11T13:15:16.839862Z",
     "shell.execute_reply": "2023-02-11T13:15:16.839205Z"
    },
    "papermill": {
     "duration": 0.049953,
     "end_time": "2023-02-11T13:15:16.841567",
     "exception": false,
     "start_time": "2023-02-11T13:15:16.791614",
     "status": "completed"
    },
    "tags": []
   },
   "outputs": [
    {
     "data": {
      "text/plain": [
       "726.7260473588342"
      ]
     },
     "execution_count": 56,
     "metadata": {},
     "output_type": "execute_result"
    }
   ],
   "source": [
    "sales.loc[(sales['Age_Group'] == 'Adults (35-64)') & (sales['Country'] == 'United States'), 'Revenue'].mean()"
   ]
  },
  {
   "cell_type": "code",
   "execution_count": 57,
   "id": "cf9d2cf4",
   "metadata": {
    "execution": {
     "iopub.execute_input": "2023-02-11T13:15:16.895655Z",
     "iopub.status.busy": "2023-02-11T13:15:16.894991Z",
     "iopub.status.idle": "2023-02-11T13:15:16.909574Z",
     "shell.execute_reply": "2023-02-11T13:15:16.908560Z"
    },
    "papermill": {
     "duration": 0.044028,
     "end_time": "2023-02-11T13:15:16.911826",
     "exception": false,
     "start_time": "2023-02-11T13:15:16.867798",
     "status": "completed"
    },
    "tags": []
   },
   "outputs": [],
   "source": [
    "sales.loc[(sales['Country'] == 'France'), 'Revenue'] *= 1.1"
   ]
  },
  {
   "cell_type": "code",
   "execution_count": 58,
   "id": "5551e330",
   "metadata": {
    "execution": {
     "iopub.execute_input": "2023-02-11T13:15:16.966337Z",
     "iopub.status.busy": "2023-02-11T13:15:16.965925Z",
     "iopub.status.idle": "2023-02-11T13:15:16.972158Z",
     "shell.execute_reply": "2023-02-11T13:15:16.971519Z"
    },
    "papermill": {
     "duration": 0.035339,
     "end_time": "2023-02-11T13:15:16.974322",
     "exception": false,
     "start_time": "2023-02-11T13:15:16.938983",
     "status": "completed"
    },
    "tags": []
   },
   "outputs": [
    {
     "data": {
      "text/plain": [
       "0     950.0\n",
       "1     950.0\n",
       "2    2401.0\n",
       "3    2088.0\n",
       "4     418.0\n",
       "Name: Revenue, dtype: float64"
      ]
     },
     "execution_count": 58,
     "metadata": {},
     "output_type": "execute_result"
    }
   ],
   "source": [
    "sales['Revenue'].head()"
   ]
  }
 ],
 "metadata": {
  "kernelspec": {
   "display_name": "Python 3",
   "language": "python",
   "name": "python3"
  },
  "language_info": {
   "codemirror_mode": {
    "name": "ipython",
    "version": 3
   },
   "file_extension": ".py",
   "mimetype": "text/x-python",
   "name": "python",
   "nbconvert_exporter": "python",
   "pygments_lexer": "ipython3",
   "version": "3.7.12"
  },
  "papermill": {
   "default_parameters": {},
   "duration": 24.246053,
   "end_time": "2023-02-11T13:15:17.820609",
   "environment_variables": {},
   "exception": null,
   "input_path": "__notebook__.ipynb",
   "output_path": "__notebook__.ipynb",
   "parameters": {},
   "start_time": "2023-02-11T13:14:53.574556",
   "version": "2.3.4"
  }
 },
 "nbformat": 4,
 "nbformat_minor": 5
}
